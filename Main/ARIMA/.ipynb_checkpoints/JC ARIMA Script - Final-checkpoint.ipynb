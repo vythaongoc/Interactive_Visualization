{
 "cells": [
  {
   "cell_type": "code",
   "execution_count": 14,
   "id": "89580520",
   "metadata": {},
   "outputs": [
    {
     "name": "stdout",
     "output_type": "stream",
     "text": [
      "   NUM_FPN  NUM_CPN        CPN  MFR          MFR_PART  2020-01-01  2020-02-01  \\\n",
      "0        1        1    12-1044  DIO       SMAZ20-13-F       93289       99200   \n",
      "1        1        1    12-1070  DIO        B340A-13-F       93289       99200   \n",
      "2        1        1    13-1042  DIO        BSS123-7-F      279867      297600   \n",
      "3        2        1    15-1327  CIT  CMR200T32768DZFT       93289       99200   \n",
      "4        1        1  188735397  DIO        BAV99W-7-F       30077       31170   \n",
      "\n",
      "   2020-03-01  2020-04-01  2020-05-01  ...  2022-03-01  2022-04-01  \\\n",
      "0       83520       85120       84480  ...           0           0   \n",
      "1       83520       85120       84480  ...           0           0   \n",
      "2      250560      255360      253440  ...           0           0   \n",
      "3       83520       85120       84480  ...           0           0   \n",
      "4       25258       27524       20128  ...       11253       12504   \n",
      "\n",
      "   2022-05-01  2022-06-01  2022-07-01  2022-08-01  2022-09-01  2022-10-01  \\\n",
      "0           0           0           0     75264.0     75264.0     75264.0   \n",
      "1           0           0           0     75264.0     75264.0     75264.0   \n",
      "2           0           0           0    225792.0    225792.0    225792.0   \n",
      "3           0           0           0     75264.0     75264.0     75264.0   \n",
      "4       14516       13379       16166     14459.0     14459.0     14459.0   \n",
      "\n",
      "   2022-11-01  2022-12-01  \n",
      "0     75264.0     75264.0  \n",
      "1     75264.0     75264.0  \n",
      "2    225792.0    225792.0  \n",
      "3     75264.0     75264.0  \n",
      "4     14459.0     14459.0  \n",
      "\n",
      "[5 rows x 41 columns]\n"
     ]
    }
   ],
   "source": [
    "import pandas as pd\n",
    "import numpy as np\n",
    "from statsmodels.tsa.stattools import adfuller\n",
    "from statsmodels.stats.diagnostic import acorr_ljungbox\n",
    "from statsmodels.tsa.arima.model import ARIMA\n",
    "from statsmodels.graphics.tsaplots import plot_acf, plot_pacf\n",
    "from sklearn.metrics import mean_squared_error, mean_absolute_error\n",
    "from math import sqrt\n",
    "import matplotlib.pyplot as plt\n",
    "import matplotlib.cm as cm\n",
    "import matplotlib.ticker as mtick\n",
    "import plotly.graph_objects as go\n",
    "import seaborn as sns\n",
    "import warnings\n",
    "warnings.filterwarnings(\"ignore\")\n",
    "\n",
    "\n",
    "\n",
    "# Define your file path. If the file is in the same directory as your python script, you only need the file name\n",
    "file_path = 'C:\\\\Users\\\\mnous\\\\Downloads\\\\arima_dataset2.csv'\n",
    "\n",
    "# Read the CSV file\n",
    "df = pd.read_csv(file_path)\n",
    "\n",
    "# Print the first 5 rows of the DataFrame\n",
    "print(df.head())\n"
   ]
  },
  {
   "cell_type": "code",
   "execution_count": 15,
   "id": "87078371",
   "metadata": {},
   "outputs": [],
   "source": [
    "import pandas as pd\n",
    "\n",
    "# Assume that 'df' is your original DataFrame\n",
    "\n",
    "filters = [\n",
    "    {\"MFR_PART\": \"CMR200T32768DZFT\", \"MFR\": \"CIT\"},\n",
    "    {\"MFR_PART\": \"HD04-T\", \"MFR\": \"DIO\"},\n",
    "    {\"MFR_PART\": \"CSW-1001\", \"MFR\": \"BIV\"},\n",
    "]\n",
    "\n",
    "# Initialize an empty DataFrame to store the filtered data\n",
    "filtered_df = pd.DataFrame()\n",
    "\n",
    "# Apply the filters to the original DataFrame\n",
    "for filter in filters:\n",
    "    temp_df = df[(df['MFR_PART'] == filter['MFR_PART']) & \n",
    "                 (df['MFR'] == filter['MFR'])]\n",
    "    filtered_df = pd.concat([filtered_df, temp_df])\n",
    "\n",
    "# Ensure filtered DataFrame doesn't have index duplicates\n",
    "filtered_df.reset_index(drop=True, inplace=True)\n"
   ]
  },
  {
   "cell_type": "code",
   "execution_count": 16,
   "id": "f958c206",
   "metadata": {},
   "outputs": [
    {
     "data": {
      "text/html": [
       "<div>\n",
       "<style scoped>\n",
       "    .dataframe tbody tr th:only-of-type {\n",
       "        vertical-align: middle;\n",
       "    }\n",
       "\n",
       "    .dataframe tbody tr th {\n",
       "        vertical-align: top;\n",
       "    }\n",
       "\n",
       "    .dataframe thead th {\n",
       "        text-align: right;\n",
       "    }\n",
       "</style>\n",
       "<table border=\"1\" class=\"dataframe\">\n",
       "  <thead>\n",
       "    <tr style=\"text-align: right;\">\n",
       "      <th>MFR_PART</th>\n",
       "      <th>CMR200T32768DZFT</th>\n",
       "      <th>HD04-T</th>\n",
       "      <th>CSW-1001</th>\n",
       "    </tr>\n",
       "  </thead>\n",
       "  <tbody>\n",
       "    <tr>\n",
       "      <th>2020-01-01</th>\n",
       "      <td>159304.0</td>\n",
       "      <td>137893.0</td>\n",
       "      <td>97626.0</td>\n",
       "    </tr>\n",
       "    <tr>\n",
       "      <th>2020-02-01</th>\n",
       "      <td>150640.0</td>\n",
       "      <td>159056.0</td>\n",
       "      <td>99200.0</td>\n",
       "    </tr>\n",
       "    <tr>\n",
       "      <th>2020-03-01</th>\n",
       "      <td>130300.0</td>\n",
       "      <td>171038.0</td>\n",
       "      <td>83520.0</td>\n",
       "    </tr>\n",
       "    <tr>\n",
       "      <th>2020-04-01</th>\n",
       "      <td>97200.0</td>\n",
       "      <td>153116.0</td>\n",
       "      <td>85120.0</td>\n",
       "    </tr>\n",
       "    <tr>\n",
       "      <th>2020-05-01</th>\n",
       "      <td>92200.0</td>\n",
       "      <td>127873.0</td>\n",
       "      <td>84480.0</td>\n",
       "    </tr>\n",
       "    <tr>\n",
       "      <th>2020-06-01</th>\n",
       "      <td>53963.0</td>\n",
       "      <td>130987.0</td>\n",
       "      <td>88565.0</td>\n",
       "    </tr>\n",
       "    <tr>\n",
       "      <th>2020-07-01</th>\n",
       "      <td>65516.0</td>\n",
       "      <td>130854.0</td>\n",
       "      <td>98580.0</td>\n",
       "    </tr>\n",
       "    <tr>\n",
       "      <th>2020-08-01</th>\n",
       "      <td>43594.2</td>\n",
       "      <td>105105.4</td>\n",
       "      <td>83099.0</td>\n",
       "    </tr>\n",
       "    <tr>\n",
       "      <th>2020-09-01</th>\n",
       "      <td>43594.2</td>\n",
       "      <td>105105.4</td>\n",
       "      <td>83099.0</td>\n",
       "    </tr>\n",
       "    <tr>\n",
       "      <th>2020-10-01</th>\n",
       "      <td>43594.2</td>\n",
       "      <td>105105.4</td>\n",
       "      <td>83099.0</td>\n",
       "    </tr>\n",
       "    <tr>\n",
       "      <th>2020-11-01</th>\n",
       "      <td>43594.2</td>\n",
       "      <td>105105.4</td>\n",
       "      <td>83099.0</td>\n",
       "    </tr>\n",
       "    <tr>\n",
       "      <th>2020-12-01</th>\n",
       "      <td>43594.2</td>\n",
       "      <td>105105.4</td>\n",
       "      <td>83099.0</td>\n",
       "    </tr>\n",
       "    <tr>\n",
       "      <th>2021-01-01</th>\n",
       "      <td>97021.0</td>\n",
       "      <td>56431.0</td>\n",
       "      <td>68926.0</td>\n",
       "    </tr>\n",
       "    <tr>\n",
       "      <th>2021-02-01</th>\n",
       "      <td>172567.0</td>\n",
       "      <td>78517.0</td>\n",
       "      <td>139840.0</td>\n",
       "    </tr>\n",
       "    <tr>\n",
       "      <th>2021-03-01</th>\n",
       "      <td>84598.0</td>\n",
       "      <td>90632.0</td>\n",
       "      <td>97155.0</td>\n",
       "    </tr>\n",
       "    <tr>\n",
       "      <th>2021-04-01</th>\n",
       "      <td>132004.0</td>\n",
       "      <td>82341.0</td>\n",
       "      <td>111978.0</td>\n",
       "    </tr>\n",
       "    <tr>\n",
       "      <th>2021-05-01</th>\n",
       "      <td>87624.0</td>\n",
       "      <td>90191.0</td>\n",
       "      <td>89600.0</td>\n",
       "    </tr>\n",
       "    <tr>\n",
       "      <th>2021-06-01</th>\n",
       "      <td>99012.0</td>\n",
       "      <td>104108.0</td>\n",
       "      <td>89600.0</td>\n",
       "    </tr>\n",
       "    <tr>\n",
       "      <th>2021-07-01</th>\n",
       "      <td>78712.0</td>\n",
       "      <td>90329.0</td>\n",
       "      <td>89600.0</td>\n",
       "    </tr>\n",
       "    <tr>\n",
       "      <th>2021-08-01</th>\n",
       "      <td>64025.6</td>\n",
       "      <td>84935.6</td>\n",
       "      <td>75264.0</td>\n",
       "    </tr>\n",
       "    <tr>\n",
       "      <th>2021-09-01</th>\n",
       "      <td>64025.6</td>\n",
       "      <td>84935.6</td>\n",
       "      <td>75264.0</td>\n",
       "    </tr>\n",
       "    <tr>\n",
       "      <th>2021-10-01</th>\n",
       "      <td>64025.6</td>\n",
       "      <td>84935.6</td>\n",
       "      <td>75264.0</td>\n",
       "    </tr>\n",
       "    <tr>\n",
       "      <th>2021-11-01</th>\n",
       "      <td>64025.6</td>\n",
       "      <td>84935.6</td>\n",
       "      <td>75264.0</td>\n",
       "    </tr>\n",
       "    <tr>\n",
       "      <th>2021-12-01</th>\n",
       "      <td>64025.6</td>\n",
       "      <td>84935.6</td>\n",
       "      <td>75264.0</td>\n",
       "    </tr>\n",
       "    <tr>\n",
       "      <th>2022-01-01</th>\n",
       "      <td>119377.0</td>\n",
       "      <td>100834.0</td>\n",
       "      <td>0.0</td>\n",
       "    </tr>\n",
       "    <tr>\n",
       "      <th>2022-02-01</th>\n",
       "      <td>54480.0</td>\n",
       "      <td>86545.0</td>\n",
       "      <td>0.0</td>\n",
       "    </tr>\n",
       "    <tr>\n",
       "      <th>2022-03-01</th>\n",
       "      <td>115178.0</td>\n",
       "      <td>84072.0</td>\n",
       "      <td>0.0</td>\n",
       "    </tr>\n",
       "    <tr>\n",
       "      <th>2022-04-01</th>\n",
       "      <td>144240.0</td>\n",
       "      <td>129093.0</td>\n",
       "      <td>0.0</td>\n",
       "    </tr>\n",
       "    <tr>\n",
       "      <th>2022-05-01</th>\n",
       "      <td>103400.0</td>\n",
       "      <td>125353.0</td>\n",
       "      <td>0.0</td>\n",
       "    </tr>\n",
       "    <tr>\n",
       "      <th>2022-06-01</th>\n",
       "      <td>71620.0</td>\n",
       "      <td>112288.0</td>\n",
       "      <td>0.0</td>\n",
       "    </tr>\n",
       "    <tr>\n",
       "      <th>2022-07-01</th>\n",
       "      <td>37480.0</td>\n",
       "      <td>146429.0</td>\n",
       "      <td>0.0</td>\n",
       "    </tr>\n",
       "    <tr>\n",
       "      <th>2022-08-01</th>\n",
       "      <td>64025.6</td>\n",
       "      <td>84935.6</td>\n",
       "      <td>75264.0</td>\n",
       "    </tr>\n",
       "    <tr>\n",
       "      <th>2022-09-01</th>\n",
       "      <td>64025.6</td>\n",
       "      <td>84935.6</td>\n",
       "      <td>75264.0</td>\n",
       "    </tr>\n",
       "    <tr>\n",
       "      <th>2022-10-01</th>\n",
       "      <td>64025.6</td>\n",
       "      <td>84935.6</td>\n",
       "      <td>75264.0</td>\n",
       "    </tr>\n",
       "    <tr>\n",
       "      <th>2022-11-01</th>\n",
       "      <td>64025.6</td>\n",
       "      <td>84935.6</td>\n",
       "      <td>75264.0</td>\n",
       "    </tr>\n",
       "    <tr>\n",
       "      <th>2022-12-01</th>\n",
       "      <td>64025.6</td>\n",
       "      <td>84935.6</td>\n",
       "      <td>75264.0</td>\n",
       "    </tr>\n",
       "  </tbody>\n",
       "</table>\n",
       "</div>"
      ],
      "text/plain": [
       "MFR_PART    CMR200T32768DZFT    HD04-T  CSW-1001\n",
       "2020-01-01          159304.0  137893.0   97626.0\n",
       "2020-02-01          150640.0  159056.0   99200.0\n",
       "2020-03-01          130300.0  171038.0   83520.0\n",
       "2020-04-01           97200.0  153116.0   85120.0\n",
       "2020-05-01           92200.0  127873.0   84480.0\n",
       "2020-06-01           53963.0  130987.0   88565.0\n",
       "2020-07-01           65516.0  130854.0   98580.0\n",
       "2020-08-01           43594.2  105105.4   83099.0\n",
       "2020-09-01           43594.2  105105.4   83099.0\n",
       "2020-10-01           43594.2  105105.4   83099.0\n",
       "2020-11-01           43594.2  105105.4   83099.0\n",
       "2020-12-01           43594.2  105105.4   83099.0\n",
       "2021-01-01           97021.0   56431.0   68926.0\n",
       "2021-02-01          172567.0   78517.0  139840.0\n",
       "2021-03-01           84598.0   90632.0   97155.0\n",
       "2021-04-01          132004.0   82341.0  111978.0\n",
       "2021-05-01           87624.0   90191.0   89600.0\n",
       "2021-06-01           99012.0  104108.0   89600.0\n",
       "2021-07-01           78712.0   90329.0   89600.0\n",
       "2021-08-01           64025.6   84935.6   75264.0\n",
       "2021-09-01           64025.6   84935.6   75264.0\n",
       "2021-10-01           64025.6   84935.6   75264.0\n",
       "2021-11-01           64025.6   84935.6   75264.0\n",
       "2021-12-01           64025.6   84935.6   75264.0\n",
       "2022-01-01          119377.0  100834.0       0.0\n",
       "2022-02-01           54480.0   86545.0       0.0\n",
       "2022-03-01          115178.0   84072.0       0.0\n",
       "2022-04-01          144240.0  129093.0       0.0\n",
       "2022-05-01          103400.0  125353.0       0.0\n",
       "2022-06-01           71620.0  112288.0       0.0\n",
       "2022-07-01           37480.0  146429.0       0.0\n",
       "2022-08-01           64025.6   84935.6   75264.0\n",
       "2022-09-01           64025.6   84935.6   75264.0\n",
       "2022-10-01           64025.6   84935.6   75264.0\n",
       "2022-11-01           64025.6   84935.6   75264.0\n",
       "2022-12-01           64025.6   84935.6   75264.0"
      ]
     },
     "execution_count": 16,
     "metadata": {},
     "output_type": "execute_result"
    }
   ],
   "source": [
    "# Drop unnecessary columns\n",
    "filtered_df.drop(['NUM_FPN', 'NUM_CPN', 'CPN', 'MFR'], axis=1, inplace=True)\n",
    "\n",
    "# Set MFR_PART as index\n",
    "filtered_df.set_index('MFR_PART', inplace=True)\n",
    "\n",
    "# Transpose DataFrame\n",
    "transposed_df = filtered_df.transpose()\n",
    "\n",
    "# Convert index to datetime\n",
    "transposed_df.index = pd.to_datetime(transposed_df.index)\n",
    "\n",
    "# drop the first column\n",
    "transposed_df = transposed_df.iloc[:, 1:]\n",
    "transposed_df\n"
   ]
  },
  {
   "cell_type": "code",
   "execution_count": 17,
   "id": "d1c1c6fd",
   "metadata": {},
   "outputs": [
    {
     "data": {
      "image/png": "[encoded data removed]",
      "text/plain": [
       "<Figure size 1000x1000 with 3 Axes>"
      ]
     },
     "metadata": {},
     "output_type": "display_data"
    }
   ],
   "source": [
    "import matplotlib.pyplot as plt\n",
    "\n",
    "# Create the figure and axes\n",
    "fig, axs = plt.subplots(3, 1, figsize=(10, 10))\n",
    "\n",
    "# Plot the variables\n",
    "# Plot 'CMR200T32768DZFT' on the first subplot with a blue color\n",
    "transposed_df['CMR200T32768DZFT'].plot(ax=axs[0], color='blue')\n",
    "# Plot 'HD04-T' on the second subplot with a green color\n",
    "transposed_df['HD04-T'].plot(ax=axs[1], color='green')\n",
    "# Plot 'CSW-1001' on the third subplot with a red color\n",
    "transposed_df['CSW-1001'].plot(ax=axs[2], color='red')\n",
    "\n",
    "# Set the titles for each subplot\n",
    "axs[0].set_title('CMR200T32768DZFT')\n",
    "axs[1].set_title('HD04-T')\n",
    "axs[2].set_title('CSW-1001')\n",
    "\n",
    "\n",
    "# Adjust the layout and spacing\n",
    "plt.tight_layout()\n",
    "\n",
    "# Display the plots\n",
    "plt.show()\n"
   ]
  },
  {
   "cell_type": "code",
   "execution_count": 18,
   "id": "d08d80d5",
   "metadata": {},
   "outputs": [
    {
     "data": {
      "image/png": "[encoded data removed]",
      "text/plain": [
       "<Figure size 750x750 with 12 Axes>"
      ]
     },
     "metadata": {},
     "output_type": "display_data"
    }
   ],
   "source": [
    "import seaborn as sns\n",
    "\n",
    "# Subset of the dataframe to use for pairplot\n",
    "df_subset = transposed_df[['CMR200T32768DZFT', 'HD04-T', 'CSW-1001']].copy()\n",
    "\n",
    "# Dealing with missing values\n",
    "df_subset.fillna(method ='pad', inplace = True)  # Forward fill method to fill NA values\n",
    "\n",
    "# Plotting\n",
    "sns.pairplot(df_subset)  # Create a pairwise scatter plot matrix\n",
    "plt.show()  # Display the plot"
   ]
  },
  {
   "cell_type": "code",
   "execution_count": 19,
   "id": "e89d7e7c",
   "metadata": {},
   "outputs": [
    {
     "data": {
      "text/plain": [
       "['CMR200T32768DZFT', 'HD04-T', 'CSW-1001']"
      ]
     },
     "execution_count": 19,
     "metadata": {},
     "output_type": "execute_result"
    }
   ],
   "source": [
    "# Get the column names of the DataFrame\n",
    "variables = transposed_df.columns \n",
    "variables = list(transposed_df.columns)\n",
    "variables"
   ]
  },
  {
   "cell_type": "code",
   "execution_count": 20,
   "id": "e1556daa",
   "metadata": {},
   "outputs": [],
   "source": [
    "# Store models, predictions and errors\n",
    "models = []  # List to store the models\n",
    "rmse_multi = []  # List to store the root mean square errors (RMSE)\n",
    "mae_multi = []  # List to store the mean absolute errors (MAE)\n",
    "ape_multi = []  # List to store the absolute percentage errors for each variable"
   ]
  },
  {
   "cell_type": "markdown",
   "id": "99ef386d",
   "metadata": {},
   "source": [
    "# Explanation of the script below :\n",
    "#### This script performs an ARIMA (AutoRegressive Integrated Moving Average) analysis for each variable in the dataset. Here's a breakdown of the steps:\n",
    "\n",
    "##### 1 - Iterate through each variable in the dataset using a for loop.\n",
    "##### 2 - Initialize variables to store the best AIC value, the best (p, d, q) order, the best ARIMA model, and the fit of the best model.\n",
    "##### 3 -Perform a grid search to find the best (p, d, q) values for the ARIMA model.\n",
    "##### 4 -Fit an ARIMA model with each combination of (p, d, q) values and store the best model based on the lowest AIC value.\n",
    "##### 5 -Append the best model to the list of models.\n",
    "##### 6 -Print the structure and summary of the best ARIMA model for the current variable.\n",
    "##### 7-Plot the autocorrelation function (ACF) and partial autocorrelation function (PACF) for the best model.\n",
    "##### 8 -Test for stationarity of the residuals using the Augmented Dickey-Fuller (ADF) test.\n",
    "##### 9 -Test for autocorrelation in the residuals using the Ljung-Box test.\n",
    "##### 10 -Perform predictions using the best ARIMA model.\n",
    "##### 11 -Calculate and print the prediction performance and results, including the RMSE (Root Mean Squared Error) and Mean Absolute Percentage Error (MAPE).\n",
    "##### 12 -Plot the predicted values against the test data, including a confidence interval.\n",
    "##### 13 -Plot the absolute percentage errors for the current variable over the test period.\n",
    "#### The script repeats these steps for each variable in the dataset, providing an analysis and visualizations for each variable's ARIMA model and predictions."
   ]
  },
  {
   "cell_type": "code",
   "execution_count": 21,
   "id": "b88c4c2e",
   "metadata": {},
   "outputs": [
    {
     "name": "stdout",
     "output_type": "stream",
     "text": [
      "\u001b[1mStructure of The ARIMA Model For CMR200T32768DZFT: (0, 2, 1)\u001b[0m\n",
      "\n",
      "\n",
      "\u001b[1mModel Summary:\u001b[0m\n",
      "                               SARIMAX Results                                \n",
      "==============================================================================\n",
      "Dep. Variable:       CMR200T32768DZFT   No. Observations:                   36\n",
      "Model:                 ARIMA(0, 2, 1)   Log Likelihood                -408.246\n",
      "Date:                Sat, 15 Jul 2023   AIC                            820.492\n",
      "Time:                        19:17:58   BIC                            823.545\n",
      "Sample:                    01-01-2020   HQIC                           821.533\n",
      "                         - 12-01-2022                                         \n",
      "Covariance Type:                  opg                                         \n",
      "==============================================================================\n",
      "                 coef    std err          z      P>|z|      [0.025      0.975]\n",
      "------------------------------------------------------------------------------\n",
      "ma.L1         -0.9775      0.283     -3.455      0.001      -1.532      -0.423\n",
      "sigma2      1.785e+09   1.36e-10   1.31e+19      0.000    1.79e+09    1.79e+09\n",
      "===================================================================================\n",
      "Ljung-Box (L1) (Q):                   2.14   Jarque-Bera (JB):                 0.03\n",
      "Prob(Q):                              0.14   Prob(JB):                         0.98\n",
      "Heteroskedasticity (H):               1.03   Skew:                            -0.03\n",
      "Prob(H) (two-sided):                  0.96   Kurtosis:                         2.86\n",
      "===================================================================================\n",
      "\n",
      "Warnings:\n",
      "[1] Covariance matrix calculated using the outer product of gradients (complex-step).\n",
      "[2] Covariance matrix is singular or near-singular, with condition number    inf. Standard errors may be unstable.\n",
      "\n",
      "\n",
      "\u001b[1mPlotting the ACF and PACF:\u001b[0m\n"
     ]
    },
    {
     "data": {
      "image/png": "[encoded data removed]",
      "text/plain": [
       "<Figure size 1200x600 with 2 Axes>"
      ]
     },
     "metadata": {},
     "output_type": "display_data"
    },
    {
     "name": "stdout",
     "output_type": "stream",
     "text": [
      "\n",
      "\n",
      "\u001b[1mTest of if the Residuals Are Stationary Using the ADF Test:\u001b[0m\n",
      "ADF Statistic: -8.973650778434383\n",
      "p-value: 7.634306486667598e-15\n",
      "The residuals are stationary.\n",
      "\n",
      "\n",
      "\u001b[1mTest of if No Autocorrelation Using the Ljung-Box Test:\u001b[0m\n",
      "Ljung-Box Statistic: 6.737201487081652\n",
      "p-value: 0.7499999339344009\n",
      "There is no significant autocorrelation in the residuals.\n",
      "\n",
      "\n",
      "\u001b[1mPrediction vs Observed Values:\u001b[0m\n",
      "predicted=139766.499139, expected=87624.000000\n",
      "predicted=91164.493569, expected=99012.000000\n",
      "predicted=103365.180510, expected=78712.000000\n",
      "predicted=81163.146842, expected=64025.600000\n",
      "predicted=65142.115835, expected=64025.600000\n",
      "predicted=65309.625134, expected=64025.600000\n",
      "predicted=65494.009871, expected=64025.600000\n",
      "predicted=65522.379429, expected=64025.600000\n",
      "predicted=65579.731372, expected=119377.000000\n",
      "predicted=123975.978134, expected=54480.000000\n",
      "predicted=55336.855078, expected=115178.000000\n",
      "predicted=119238.871657, expected=144240.000000\n",
      "predicted=149342.257057, expected=103400.000000\n",
      "predicted=106661.028325, expected=71620.000000\n",
      "predicted=73864.407832, expected=37480.000000\n",
      "predicted=37758.512585, expected=64025.600000\n",
      "predicted=65584.332390, expected=64025.600000\n",
      "predicted=65546.239142, expected=64025.600000\n",
      "predicted=65472.238584, expected=64025.600000\n",
      "predicted=65457.954717, expected=64025.600000\n",
      "\n",
      "\n",
      "\u001b[1mPrediction Performance & Results:\u001b[0m\n",
      "Item: CMR200T32768DZFT\n",
      "Best ARIMA Structure is: (0, 2, 1)\n",
      "Best AIC found is: 820.4922316716544\n",
      "The RMSE of the predictions is: 32388.48752961143\n",
      "Mean Absolute Percentage Error of the prediction is: 30.82918075635426%\n"
     ]
    },
    {
     "data": {
      "application/vnd.plotly.v1+json": {
       "config": {
        "plotlyServerURL": "https://plot.ly"
       },
       "data": [
        {
         "line": {
          "color": "skyblue",
          "width": 2.5
         },
         "mode": "lines",
         "name": "Test Data",
         "type": "scatter",
         "x": [
          0,
          1,
          2,
          3,
          4,
          5,
          6,
          7,
          8,
          9,
          10,
          11,
          12,
          13,
          14,
          15,
          16,
          17,
          18,
          19
         ],
         "y": [
          87624,
          99012,
          78712,
          64025.6,
          64025.6,
          64025.6,
          64025.6,
          64025.6,
          119377,
          54480,
          115178,
          144240,
          103400,
          71620,
          37480,
          64025.6,
          64025.6,
          64025.6,
          64025.6,
          64025.6
         ]
        },
        {
         "line": {
          "color": "red",
          "dash": "dash",
          "width": 2.5
         },
         "mode": "lines",
         "name": "Predicted Data",
         "type": "scatter",
         "x": [
          0,
          1,
          2,
          3,
          4,
          5,
          6,
          7,
          8,
          9,
          10,
          11,
          12,
          13,
          14,
          15,
          16,
          17,
          18,
          19
         ],
         "y": [
          139766.49913916478,
          91164.49356857035,
          103365.18051047485,
          81163.14684192438,
          65142.115834839235,
          65309.625134112874,
          65494.00987143728,
          65522.37942942004,
          65579.73137205602,
          123975.9781340328,
          55336.85507783586,
          119238.8716570141,
          149342.25705690234,
          106661.02832479512,
          73864.40783192652,
          37758.51258485773,
          65584.33239033853,
          65546.2391421328,
          65472.238584150204,
          65457.95471670935
         ]
        },
        {
         "fill": "toself",
         "fillcolor": "rgba(255, 105, 180, 0.3)",
         "hoverinfo": "skip",
         "line": {
          "color": "rgba(255,255,255,0)"
         },
         "name": "95% Confidence Interval",
         "showlegend": false,
         "type": "scatter",
         "x": [
          0,
          1,
          2,
          3,
          4,
          5,
          6,
          7,
          8,
          9,
          10,
          11,
          12,
          13,
          14,
          15,
          16,
          17,
          18,
          19,
          19,
          18,
          17,
          16,
          15,
          14,
          13,
          12,
          11,
          10,
          9,
          8,
          7,
          6,
          5,
          4,
          3,
          2,
          1,
          0
         ],
         "y": [
          231171.3961615747,
          197836.9526498483,
          207312.23983619997,
          181566.21966619475,
          161836.7049161913,
          158975.21251882677,
          155858.95746490528,
          153613.5455932858,
          151256.0388613856,
          211213.11217428232,
          148241.27593848965,
          215206.56720329996,
          240034.08454074984,
          198204.4609894954,
          157837.52748922363,
          126811.21419702606,
          153827.15617580776,
          152400.3456373879,
          151611.42289244218,
          150011.1711395782,
          -19095.261706159486,
          -20666.945724141777,
          -21307.86735312226,
          -22658.49139513068,
          -51294.1890273106,
          -10108.711825370585,
          15117.595660094841,
          58650.42957305482,
          23271.176110728236,
          -37567.565782817925,
          36738.84409378329,
          -20096.57611727358,
          -22568.786734445697,
          -24870.93772203073,
          -28355.962250601027,
          -31552.473246512818,
          -19239.925982345987,
          -581.8788152502821,
          -15507.965512707582,
          48361.60211675486
         ]
        }
       ],
       "layout": {
        "template": {
         "data": {
          "bar": [
           {
            "error_x": {
             "color": "#2a3f5f"
            },
            "error_y": {
             "color": "#2a3f5f"
            },
            "marker": {
             "line": {
              "color": "#E5ECF6",
              "width": 0.5
             },
             "pattern": {
              "fillmode": "overlay",
              "size": 10,
              "solidity": 0.2
             }
            },
            "type": "bar"
           }
          ],
          "barpolar": [
           {
            "marker": {
             "line": {
              "color": "#E5ECF6",
              "width": 0.5
             },
             "pattern": {
              "fillmode": "overlay",
              "size": 10,
              "solidity": 0.2
             }
            },
            "type": "barpolar"
           }
          ],
          "carpet": [
           {
            "aaxis": {
             "endlinecolor": "#2a3f5f",
             "gridcolor": "white",
             "linecolor": "white",
             "minorgridcolor": "white",
             "startlinecolor": "#2a3f5f"
            },
            "baxis": {
             "endlinecolor": "#2a3f5f",
             "gridcolor": "white",
             "linecolor": "white",
             "minorgridcolor": "white",
             "startlinecolor": "#2a3f5f"
            },
            "type": "carpet"
           }
          ],
          "choropleth": [
           {
            "colorbar": {
             "outlinewidth": 0,
             "ticks": ""
            },
            "type": "choropleth"
           }
          ],
          "contour": [
           {
            "colorbar": {
             "outlinewidth": 0,
             "ticks": ""
            },
            "colorscale": [
             [
              0,
              "#0d0887"
             ],
             [
              0.1111111111111111,
              "#46039f"
             ],
             [
              0.2222222222222222,
              "#7201a8"
             ],
             [
              0.3333333333333333,
              "#9c179e"
             ],
             [
              0.4444444444444444,
              "#bd3786"
             ],
             [
              0.5555555555555556,
              "#d8576b"
             ],
             [
              0.6666666666666666,
              "#ed7953"
             ],
             [
              0.7777777777777778,
              "#fb9f3a"
             ],
             [
              0.8888888888888888,
              "#fdca26"
             ],
             [
              1,
              "#f0f921"
             ]
            ],
            "type": "contour"
           }
          ],
          "contourcarpet": [
           {
            "colorbar": {
             "outlinewidth": 0,
             "ticks": ""
            },
            "type": "contourcarpet"
           }
          ],
          "heatmap": [
           {
            "colorbar": {
             "outlinewidth": 0,
             "ticks": ""
            },
            "colorscale": [
             [
              0,
              "#0d0887"
             ],
             [
              0.1111111111111111,
              "#46039f"
             ],
             [
              0.2222222222222222,
              "#7201a8"
             ],
             [
              0.3333333333333333,
              "#9c179e"
             ],
             [
              0.4444444444444444,
              "#bd3786"
             ],
             [
              0.5555555555555556,
              "#d8576b"
             ],
             [
              0.6666666666666666,
              "#ed7953"
             ],
             [
              0.7777777777777778,
              "#fb9f3a"
             ],
             [
              0.8888888888888888,
              "#fdca26"
             ],
             [
              1,
              "#f0f921"
             ]
            ],
            "type": "heatmap"
           }
          ],
          "heatmapgl": [
           {
            "colorbar": {
             "outlinewidth": 0,
             "ticks": ""
            },
            "colorscale": [
             [
              0,
              "#0d0887"
             ],
             [
              0.1111111111111111,
              "#46039f"
             ],
             [
              0.2222222222222222,
              "#7201a8"
             ],
             [
              0.3333333333333333,
              "#9c179e"
             ],
             [
              0.4444444444444444,
              "#bd3786"
             ],
             [
              0.5555555555555556,
              "#d8576b"
             ],
             [
              0.6666666666666666,
              "#ed7953"
             ],
             [
              0.7777777777777778,
              "#fb9f3a"
             ],
             [
              0.8888888888888888,
              "#fdca26"
             ],
             [
              1,
              "#f0f921"
             ]
            ],
            "type": "heatmapgl"
           }
          ],
          "histogram": [
           {
            "marker": {
             "pattern": {
              "fillmode": "overlay",
              "size": 10,
              "solidity": 0.2
             }
            },
            "type": "histogram"
           }
          ],
          "histogram2d": [
           {
            "colorbar": {
             "outlinewidth": 0,
             "ticks": ""
            },
            "colorscale": [
             [
              0,
              "#0d0887"
             ],
             [
              0.1111111111111111,
              "#46039f"
             ],
             [
              0.2222222222222222,
              "#7201a8"
             ],
             [
              0.3333333333333333,
              "#9c179e"
             ],
             [
              0.4444444444444444,
              "#bd3786"
             ],
             [
              0.5555555555555556,
              "#d8576b"
             ],
             [
              0.6666666666666666,
              "#ed7953"
             ],
             [
              0.7777777777777778,
              "#fb9f3a"
             ],
             [
              0.8888888888888888,
              "#fdca26"
             ],
             [
              1,
              "#f0f921"
             ]
            ],
            "type": "histogram2d"
           }
          ],
          "histogram2dcontour": [
           {
            "colorbar": {
             "outlinewidth": 0,
             "ticks": ""
            },
            "colorscale": [
             [
              0,
              "#0d0887"
             ],
             [
              0.1111111111111111,
              "#46039f"
             ],
             [
              0.2222222222222222,
              "#7201a8"
             ],
             [
              0.3333333333333333,
              "#9c179e"
             ],
             [
              0.4444444444444444,
              "#bd3786"
             ],
             [
              0.5555555555555556,
              "#d8576b"
             ],
             [
              0.6666666666666666,
              "#ed7953"
             ],
             [
              0.7777777777777778,
              "#fb9f3a"
             ],
             [
              0.8888888888888888,
              "#fdca26"
             ],
             [
              1,
              "#f0f921"
             ]
            ],
            "type": "histogram2dcontour"
           }
          ],
          "mesh3d": [
           {
            "colorbar": {
             "outlinewidth": 0,
             "ticks": ""
            },
            "type": "mesh3d"
           }
          ],
          "parcoords": [
           {
            "line": {
             "colorbar": {
              "outlinewidth": 0,
              "ticks": ""
             }
            },
            "type": "parcoords"
           }
          ],
          "pie": [
           {
            "automargin": true,
            "type": "pie"
           }
          ],
          "scatter": [
           {
            "marker": {
             "colorbar": {
              "outlinewidth": 0,
              "ticks": ""
             }
            },
            "type": "scatter"
           }
          ],
          "scatter3d": [
           {
            "line": {
             "colorbar": {
              "outlinewidth": 0,
              "ticks": ""
             }
            },
            "marker": {
             "colorbar": {
              "outlinewidth": 0,
              "ticks": ""
             }
            },
            "type": "scatter3d"
           }
          ],
          "scattercarpet": [
           {
            "marker": {
             "colorbar": {
              "outlinewidth": 0,
              "ticks": ""
             }
            },
            "type": "scattercarpet"
           }
          ],
          "scattergeo": [
           {
            "marker": {
             "colorbar": {
              "outlinewidth": 0,
              "ticks": ""
             }
            },
            "type": "scattergeo"
           }
          ],
          "scattergl": [
           {
            "marker": {
             "colorbar": {
              "outlinewidth": 0,
              "ticks": ""
             }
            },
            "type": "scattergl"
           }
          ],
          "scattermapbox": [
           {
            "marker": {
             "colorbar": {
              "outlinewidth": 0,
              "ticks": ""
             }
            },
            "type": "scattermapbox"
           }
          ],
          "scatterpolar": [
           {
            "marker": {
             "colorbar": {
              "outlinewidth": 0,
              "ticks": ""
             }
            },
            "type": "scatterpolar"
           }
          ],
          "scatterpolargl": [
           {
            "marker": {
             "colorbar": {
              "outlinewidth": 0,
              "ticks": ""
             }
            },
            "type": "scatterpolargl"
           }
          ],
          "scatterternary": [
           {
            "marker": {
             "colorbar": {
              "outlinewidth": 0,
              "ticks": ""
             }
            },
            "type": "scatterternary"
           }
          ],
          "surface": [
           {
            "colorbar": {
             "outlinewidth": 0,
             "ticks": ""
            },
            "colorscale": [
             [
              0,
              "#0d0887"
             ],
             [
              0.1111111111111111,
              "#46039f"
             ],
             [
              0.2222222222222222,
              "#7201a8"
             ],
             [
              0.3333333333333333,
              "#9c179e"
             ],
             [
              0.4444444444444444,
              "#bd3786"
             ],
             [
              0.5555555555555556,
              "#d8576b"
             ],
             [
              0.6666666666666666,
              "#ed7953"
             ],
             [
              0.7777777777777778,
              "#fb9f3a"
             ],
             [
              0.8888888888888888,
              "#fdca26"
             ],
             [
              1,
              "#f0f921"
             ]
            ],
            "type": "surface"
           }
          ],
          "table": [
           {
            "cells": {
             "fill": {
              "color": "#EBF0F8"
             },
             "line": {
              "color": "white"
             }
            },
            "header": {
             "fill": {
              "color": "#C8D4E3"
             },
             "line": {
              "color": "white"
             }
            },
            "type": "table"
           }
          ]
         },
         "layout": {
          "annotationdefaults": {
           "arrowcolor": "#2a3f5f",
           "arrowhead": 0,
           "arrowwidth": 1
          },
          "autotypenumbers": "strict",
          "coloraxis": {
           "colorbar": {
            "outlinewidth": 0,
            "ticks": ""
           }
          },
          "colorscale": {
           "diverging": [
            [
             0,
             "#8e0152"
            ],
            [
             0.1,
             "#c51b7d"
            ],
            [
             0.2,
             "#de77ae"
            ],
            [
             0.3,
             "#f1b6da"
            ],
            [
             0.4,
             "#fde0ef"
            ],
            [
             0.5,
             "#f7f7f7"
            ],
            [
             0.6,
             "#e6f5d0"
            ],
            [
             0.7,
             "#b8e186"
            ],
            [
             0.8,
             "#7fbc41"
            ],
            [
             0.9,
             "#4d9221"
            ],
            [
             1,
             "#276419"
            ]
           ],
           "sequential": [
            [
             0,
             "#0d0887"
            ],
            [
             0.1111111111111111,
             "#46039f"
            ],
            [
             0.2222222222222222,
             "#7201a8"
            ],
            [
             0.3333333333333333,
             "#9c179e"
            ],
            [
             0.4444444444444444,
             "#bd3786"
            ],
            [
             0.5555555555555556,
             "#d8576b"
            ],
            [
             0.6666666666666666,
             "#ed7953"
            ],
            [
             0.7777777777777778,
             "#fb9f3a"
            ],
            [
             0.8888888888888888,
             "#fdca26"
            ],
            [
             1,
             "#f0f921"
            ]
           ],
           "sequentialminus": [
            [
             0,
             "#0d0887"
            ],
            [
             0.1111111111111111,
             "#46039f"
            ],
            [
             0.2222222222222222,
             "#7201a8"
            ],
            [
             0.3333333333333333,
             "#9c179e"
            ],
            [
             0.4444444444444444,
             "#bd3786"
            ],
            [
             0.5555555555555556,
             "#d8576b"
            ],
            [
             0.6666666666666666,
             "#ed7953"
            ],
            [
             0.7777777777777778,
             "#fb9f3a"
            ],
            [
             0.8888888888888888,
             "#fdca26"
            ],
            [
             1,
             "#f0f921"
            ]
           ]
          },
          "colorway": [
           "#636efa",
           "#EF553B",
           "#00cc96",
           "#ab63fa",
           "#FFA15A",
           "#19d3f3",
           "#FF6692",
           "#B6E880",
           "#FF97FF",
           "#FECB52"
          ],
          "font": {
           "color": "#2a3f5f"
          },
          "geo": {
           "bgcolor": "white",
           "lakecolor": "white",
           "landcolor": "#E5ECF6",
           "showlakes": true,
           "showland": true,
           "subunitcolor": "white"
          },
          "hoverlabel": {
           "align": "left"
          },
          "hovermode": "closest",
          "mapbox": {
           "style": "light"
          },
          "paper_bgcolor": "white",
          "plot_bgcolor": "#E5ECF6",
          "polar": {
           "angularaxis": {
            "gridcolor": "white",
            "linecolor": "white",
            "ticks": ""
           },
           "bgcolor": "#E5ECF6",
           "radialaxis": {
            "gridcolor": "white",
            "linecolor": "white",
            "ticks": ""
           }
          },
          "scene": {
           "xaxis": {
            "backgroundcolor": "#E5ECF6",
            "gridcolor": "white",
            "gridwidth": 2,
            "linecolor": "white",
            "showbackground": true,
            "ticks": "",
            "zerolinecolor": "white"
           },
           "yaxis": {
            "backgroundcolor": "#E5ECF6",
            "gridcolor": "white",
            "gridwidth": 2,
            "linecolor": "white",
            "showbackground": true,
            "ticks": "",
            "zerolinecolor": "white"
           },
           "zaxis": {
            "backgroundcolor": "#E5ECF6",
            "gridcolor": "white",
            "gridwidth": 2,
            "linecolor": "white",
            "showbackground": true,
            "ticks": "",
            "zerolinecolor": "white"
           }
          },
          "shapedefaults": {
           "line": {
            "color": "#2a3f5f"
           }
          },
          "ternary": {
           "aaxis": {
            "gridcolor": "white",
            "linecolor": "white",
            "ticks": ""
           },
           "baxis": {
            "gridcolor": "white",
            "linecolor": "white",
            "ticks": ""
           },
           "bgcolor": "#E5ECF6",
           "caxis": {
            "gridcolor": "white",
            "linecolor": "white",
            "ticks": ""
           }
          },
          "title": {
           "x": 0.05
          },
          "xaxis": {
           "automargin": true,
           "gridcolor": "white",
           "linecolor": "white",
           "ticks": "",
           "title": {
            "standoff": 15
           },
           "zerolinecolor": "white",
           "zerolinewidth": 2
          },
          "yaxis": {
           "automargin": true,
           "gridcolor": "white",
           "linecolor": "white",
           "ticks": "",
           "title": {
            "standoff": 15
           },
           "zerolinecolor": "white",
           "zerolinewidth": 2
          }
         }
        },
        "title": {
         "font": {
          "size": 20
         },
         "text": "CMR200T32768DZFT vs Predicted CMR200T32768DZFT with Confidence Interval",
         "x": 0.5
        },
        "xaxis": {
         "title": {
          "font": {
           "size": 15
          },
          "text": "Time"
         }
        },
        "yaxis": {
         "title": {
          "font": {
           "size": 15
          },
          "text": "CMR200T32768DZFT"
         }
        }
       }
      },
      "text/html": [
       "<div>                            <div id=\"df245765-1116-42aa-94b8-5c6591103051\" class=\"plotly-graph-div\" style=\"height:525px; width:100%;\"></div>            <script type=\"text/javascript\">                require([\"plotly\"], function(Plotly) {                    window.PLOTLYENV=window.PLOTLYENV || {};                                    if (document.getElementById(\"df245765-1116-42aa-94b8-5c6591103051\")) {                    Plotly.newPlot(                        \"df245765-1116-42aa-94b8-5c6591103051\",                        [{\"line\":{\"color\":\"skyblue\",\"width\":2.5},\"mode\":\"lines\",\"name\":\"Test Data\",\"type\":\"scatter\",\"x\":[0,1,2,3,4,5,6,7,8,9,10,11,12,13,14,15,16,17,18,19],\"y\":[87624.0,99012.0,78712.0,64025.6,64025.6,64025.6,64025.6,64025.6,119377.0,54480.0,115178.0,144240.0,103400.0,71620.0,37480.0,64025.6,64025.6,64025.6,64025.6,64025.6]},{\"line\":{\"color\":\"red\",\"dash\":\"dash\",\"width\":2.5},\"mode\":\"lines\",\"name\":\"Predicted Data\",\"type\":\"scatter\",\"x\":[0,1,2,3,4,5,6,7,8,9,10,11,12,13,14,15,16,17,18,19],\"y\":[139766.49913916478,91164.49356857035,103365.18051047485,81163.14684192438,65142.115834839235,65309.625134112874,65494.00987143728,65522.37942942004,65579.73137205602,123975.9781340328,55336.85507783586,119238.8716570141,149342.25705690234,106661.02832479512,73864.40783192652,37758.51258485773,65584.33239033853,65546.2391421328,65472.238584150204,65457.95471670935]},{\"fill\":\"toself\",\"fillcolor\":\"rgba(255, 105, 180, 0.3)\",\"hoverinfo\":\"skip\",\"line\":{\"color\":\"rgba(255,255,255,0)\"},\"name\":\"95% Confidence Interval\",\"showlegend\":false,\"type\":\"scatter\",\"x\":[0,1,2,3,4,5,6,7,8,9,10,11,12,13,14,15,16,17,18,19,19,18,17,16,15,14,13,12,11,10,9,8,7,6,5,4,3,2,1,0],\"y\":[231171.3961615747,197836.9526498483,207312.23983619997,181566.21966619475,161836.7049161913,158975.21251882677,155858.95746490528,153613.5455932858,151256.0388613856,211213.11217428232,148241.27593848965,215206.56720329996,240034.08454074984,198204.4609894954,157837.52748922363,126811.21419702606,153827.15617580776,152400.3456373879,151611.42289244218,150011.1711395782,-19095.261706159486,-20666.945724141777,-21307.86735312226,-22658.49139513068,-51294.1890273106,-10108.711825370585,15117.595660094841,58650.42957305482,23271.176110728236,-37567.565782817925,36738.84409378329,-20096.57611727358,-22568.786734445697,-24870.93772203073,-28355.962250601027,-31552.473246512818,-19239.925982345987,-581.8788152502821,-15507.965512707582,48361.60211675486]}],                        {\"template\":{\"data\":{\"bar\":[{\"error_x\":{\"color\":\"#2a3f5f\"},\"error_y\":{\"color\":\"#2a3f5f\"},\"marker\":{\"line\":{\"color\":\"#E5ECF6\",\"width\":0.5},\"pattern\":{\"fillmode\":\"overlay\",\"size\":10,\"solidity\":0.2}},\"type\":\"bar\"}],\"barpolar\":[{\"marker\":{\"line\":{\"color\":\"#E5ECF6\",\"width\":0.5},\"pattern\":{\"fillmode\":\"overlay\",\"size\":10,\"solidity\":0.2}},\"type\":\"barpolar\"}],\"carpet\":[{\"aaxis\":{\"endlinecolor\":\"#2a3f5f\",\"gridcolor\":\"white\",\"linecolor\":\"white\",\"minorgridcolor\":\"white\",\"startlinecolor\":\"#2a3f5f\"},\"baxis\":{\"endlinecolor\":\"#2a3f5f\",\"gridcolor\":\"white\",\"linecolor\":\"white\",\"minorgridcolor\":\"white\",\"startlinecolor\":\"#2a3f5f\"},\"type\":\"carpet\"}],\"choropleth\":[{\"colorbar\":{\"outlinewidth\":0,\"ticks\":\"\"},\"type\":\"choropleth\"}],\"contour\":[{\"colorbar\":{\"outlinewidth\":0,\"ticks\":\"\"},\"colorscale\":[[0.0,\"#0d0887\"],[0.1111111111111111,\"#46039f\"],[0.2222222222222222,\"#7201a8\"],[0.3333333333333333,\"#9c179e\"],[0.4444444444444444,\"#bd3786\"],[0.5555555555555556,\"#d8576b\"],[0.6666666666666666,\"#ed7953\"],[0.7777777777777778,\"#fb9f3a\"],[0.8888888888888888,\"#fdca26\"],[1.0,\"#f0f921\"]],\"type\":\"contour\"}],\"contourcarpet\":[{\"colorbar\":{\"outlinewidth\":0,\"ticks\":\"\"},\"type\":\"contourcarpet\"}],\"heatmap\":[{\"colorbar\":{\"outlinewidth\":0,\"ticks\":\"\"},\"colorscale\":[[0.0,\"#0d0887\"],[0.1111111111111111,\"#46039f\"],[0.2222222222222222,\"#7201a8\"],[0.3333333333333333,\"#9c179e\"],[0.4444444444444444,\"#bd3786\"],[0.5555555555555556,\"#d8576b\"],[0.6666666666666666,\"#ed7953\"],[0.7777777777777778,\"#fb9f3a\"],[0.8888888888888888,\"#fdca26\"],[1.0,\"#f0f921\"]],\"type\":\"heatmap\"}],\"heatmapgl\":[{\"colorbar\":{\"outlinewidth\":0,\"ticks\":\"\"},\"colorscale\":[[0.0,\"#0d0887\"],[0.1111111111111111,\"#46039f\"],[0.2222222222222222,\"#7201a8\"],[0.3333333333333333,\"#9c179e\"],[0.4444444444444444,\"#bd3786\"],[0.5555555555555556,\"#d8576b\"],[0.6666666666666666,\"#ed7953\"],[0.7777777777777778,\"#fb9f3a\"],[0.8888888888888888,\"#fdca26\"],[1.0,\"#f0f921\"]],\"type\":\"heatmapgl\"}],\"histogram\":[{\"marker\":{\"pattern\":{\"fillmode\":\"overlay\",\"size\":10,\"solidity\":0.2}},\"type\":\"histogram\"}],\"histogram2d\":[{\"colorbar\":{\"outlinewidth\":0,\"ticks\":\"\"},\"colorscale\":[[0.0,\"#0d0887\"],[0.1111111111111111,\"#46039f\"],[0.2222222222222222,\"#7201a8\"],[0.3333333333333333,\"#9c179e\"],[0.4444444444444444,\"#bd3786\"],[0.5555555555555556,\"#d8576b\"],[0.6666666666666666,\"#ed7953\"],[0.7777777777777778,\"#fb9f3a\"],[0.8888888888888888,\"#fdca26\"],[1.0,\"#f0f921\"]],\"type\":\"histogram2d\"}],\"histogram2dcontour\":[{\"colorbar\":{\"outlinewidth\":0,\"ticks\":\"\"},\"colorscale\":[[0.0,\"#0d0887\"],[0.1111111111111111,\"#46039f\"],[0.2222222222222222,\"#7201a8\"],[0.3333333333333333,\"#9c179e\"],[0.4444444444444444,\"#bd3786\"],[0.5555555555555556,\"#d8576b\"],[0.6666666666666666,\"#ed7953\"],[0.7777777777777778,\"#fb9f3a\"],[0.8888888888888888,\"#fdca26\"],[1.0,\"#f0f921\"]],\"type\":\"histogram2dcontour\"}],\"mesh3d\":[{\"colorbar\":{\"outlinewidth\":0,\"ticks\":\"\"},\"type\":\"mesh3d\"}],\"parcoords\":[{\"line\":{\"colorbar\":{\"outlinewidth\":0,\"ticks\":\"\"}},\"type\":\"parcoords\"}],\"pie\":[{\"automargin\":true,\"type\":\"pie\"}],\"scatter\":[{\"marker\":{\"colorbar\":{\"outlinewidth\":0,\"ticks\":\"\"}},\"type\":\"scatter\"}],\"scatter3d\":[{\"line\":{\"colorbar\":{\"outlinewidth\":0,\"ticks\":\"\"}},\"marker\":{\"colorbar\":{\"outlinewidth\":0,\"ticks\":\"\"}},\"type\":\"scatter3d\"}],\"scattercarpet\":[{\"marker\":{\"colorbar\":{\"outlinewidth\":0,\"ticks\":\"\"}},\"type\":\"scattercarpet\"}],\"scattergeo\":[{\"marker\":{\"colorbar\":{\"outlinewidth\":0,\"ticks\":\"\"}},\"type\":\"scattergeo\"}],\"scattergl\":[{\"marker\":{\"colorbar\":{\"outlinewidth\":0,\"ticks\":\"\"}},\"type\":\"scattergl\"}],\"scattermapbox\":[{\"marker\":{\"colorbar\":{\"outlinewidth\":0,\"ticks\":\"\"}},\"type\":\"scattermapbox\"}],\"scatterpolar\":[{\"marker\":{\"colorbar\":{\"outlinewidth\":0,\"ticks\":\"\"}},\"type\":\"scatterpolar\"}],\"scatterpolargl\":[{\"marker\":{\"colorbar\":{\"outlinewidth\":0,\"ticks\":\"\"}},\"type\":\"scatterpolargl\"}],\"scatterternary\":[{\"marker\":{\"colorbar\":{\"outlinewidth\":0,\"ticks\":\"\"}},\"type\":\"scatterternary\"}],\"surface\":[{\"colorbar\":{\"outlinewidth\":0,\"ticks\":\"\"},\"colorscale\":[[0.0,\"#0d0887\"],[0.1111111111111111,\"#46039f\"],[0.2222222222222222,\"#7201a8\"],[0.3333333333333333,\"#9c179e\"],[0.4444444444444444,\"#bd3786\"],[0.5555555555555556,\"#d8576b\"],[0.6666666666666666,\"#ed7953\"],[0.7777777777777778,\"#fb9f3a\"],[0.8888888888888888,\"#fdca26\"],[1.0,\"#f0f921\"]],\"type\":\"surface\"}],\"table\":[{\"cells\":{\"fill\":{\"color\":\"#EBF0F8\"},\"line\":{\"color\":\"white\"}},\"header\":{\"fill\":{\"color\":\"#C8D4E3\"},\"line\":{\"color\":\"white\"}},\"type\":\"table\"}]},\"layout\":{\"annotationdefaults\":{\"arrowcolor\":\"#2a3f5f\",\"arrowhead\":0,\"arrowwidth\":1},\"autotypenumbers\":\"strict\",\"coloraxis\":{\"colorbar\":{\"outlinewidth\":0,\"ticks\":\"\"}},\"colorscale\":{\"diverging\":[[0,\"#8e0152\"],[0.1,\"#c51b7d\"],[0.2,\"#de77ae\"],[0.3,\"#f1b6da\"],[0.4,\"#fde0ef\"],[0.5,\"#f7f7f7\"],[0.6,\"#e6f5d0\"],[0.7,\"#b8e186\"],[0.8,\"#7fbc41\"],[0.9,\"#4d9221\"],[1,\"#276419\"]],\"sequential\":[[0.0,\"#0d0887\"],[0.1111111111111111,\"#46039f\"],[0.2222222222222222,\"#7201a8\"],[0.3333333333333333,\"#9c179e\"],[0.4444444444444444,\"#bd3786\"],[0.5555555555555556,\"#d8576b\"],[0.6666666666666666,\"#ed7953\"],[0.7777777777777778,\"#fb9f3a\"],[0.8888888888888888,\"#fdca26\"],[1.0,\"#f0f921\"]],\"sequentialminus\":[[0.0,\"#0d0887\"],[0.1111111111111111,\"#46039f\"],[0.2222222222222222,\"#7201a8\"],[0.3333333333333333,\"#9c179e\"],[0.4444444444444444,\"#bd3786\"],[0.5555555555555556,\"#d8576b\"],[0.6666666666666666,\"#ed7953\"],[0.7777777777777778,\"#fb9f3a\"],[0.8888888888888888,\"#fdca26\"],[1.0,\"#f0f921\"]]},\"colorway\":[\"#636efa\",\"#EF553B\",\"#00cc96\",\"#ab63fa\",\"#FFA15A\",\"#19d3f3\",\"#FF6692\",\"#B6E880\",\"#FF97FF\",\"#FECB52\"],\"font\":{\"color\":\"#2a3f5f\"},\"geo\":{\"bgcolor\":\"white\",\"lakecolor\":\"white\",\"landcolor\":\"#E5ECF6\",\"showlakes\":true,\"showland\":true,\"subunitcolor\":\"white\"},\"hoverlabel\":{\"align\":\"left\"},\"hovermode\":\"closest\",\"mapbox\":{\"style\":\"light\"},\"paper_bgcolor\":\"white\",\"plot_bgcolor\":\"#E5ECF6\",\"polar\":{\"angularaxis\":{\"gridcolor\":\"white\",\"linecolor\":\"white\",\"ticks\":\"\"},\"bgcolor\":\"#E5ECF6\",\"radialaxis\":{\"gridcolor\":\"white\",\"linecolor\":\"white\",\"ticks\":\"\"}},\"scene\":{\"xaxis\":{\"backgroundcolor\":\"#E5ECF6\",\"gridcolor\":\"white\",\"gridwidth\":2,\"linecolor\":\"white\",\"showbackground\":true,\"ticks\":\"\",\"zerolinecolor\":\"white\"},\"yaxis\":{\"backgroundcolor\":\"#E5ECF6\",\"gridcolor\":\"white\",\"gridwidth\":2,\"linecolor\":\"white\",\"showbackground\":true,\"ticks\":\"\",\"zerolinecolor\":\"white\"},\"zaxis\":{\"backgroundcolor\":\"#E5ECF6\",\"gridcolor\":\"white\",\"gridwidth\":2,\"linecolor\":\"white\",\"showbackground\":true,\"ticks\":\"\",\"zerolinecolor\":\"white\"}},\"shapedefaults\":{\"line\":{\"color\":\"#2a3f5f\"}},\"ternary\":{\"aaxis\":{\"gridcolor\":\"white\",\"linecolor\":\"white\",\"ticks\":\"\"},\"baxis\":{\"gridcolor\":\"white\",\"linecolor\":\"white\",\"ticks\":\"\"},\"bgcolor\":\"#E5ECF6\",\"caxis\":{\"gridcolor\":\"white\",\"linecolor\":\"white\",\"ticks\":\"\"}},\"title\":{\"x\":0.05},\"xaxis\":{\"automargin\":true,\"gridcolor\":\"white\",\"linecolor\":\"white\",\"ticks\":\"\",\"title\":{\"standoff\":15},\"zerolinecolor\":\"white\",\"zerolinewidth\":2},\"yaxis\":{\"automargin\":true,\"gridcolor\":\"white\",\"linecolor\":\"white\",\"ticks\":\"\",\"title\":{\"standoff\":15},\"zerolinecolor\":\"white\",\"zerolinewidth\":2}}},\"title\":{\"font\":{\"size\":20},\"text\":\"CMR200T32768DZFT vs Predicted CMR200T32768DZFT with Confidence Interval\",\"x\":0.5},\"xaxis\":{\"title\":{\"font\":{\"size\":15},\"text\":\"Time\"}},\"yaxis\":{\"title\":{\"font\":{\"size\":15},\"text\":\"CMR200T32768DZFT\"}}},                        {\"responsive\": true}                    ).then(function(){\n",
       "                            \n",
       "var gd = document.getElementById('df245765-1116-42aa-94b8-5c6591103051');\n",
       "var x = new MutationObserver(function (mutations, observer) {{\n",
       "        var display = window.getComputedStyle(gd).display;\n",
       "        if (!display || display === 'none') {{\n",
       "            console.log([gd, 'removed!']);\n",
       "            Plotly.purge(gd);\n",
       "            observer.disconnect();\n",
       "        }}\n",
       "}});\n",
       "\n",
       "// Listen for the removal of the full notebook cells\n",
       "var notebookContainer = gd.closest('#notebook-container');\n",
       "if (notebookContainer) {{\n",
       "    x.observe(notebookContainer, {childList: true});\n",
       "}}\n",
       "\n",
       "// Listen for the clearing of the current output cell\n",
       "var outputEl = gd.closest('.output');\n",
       "if (outputEl) {{\n",
       "    x.observe(outputEl, {childList: true});\n",
       "}}\n",
       "\n",
       "                        })                };                });            </script>        </div>"
      ]
     },
     "metadata": {},
     "output_type": "display_data"
    },
    {
     "data": {
      "image/png": "[encoded data removed]",
      "text/plain": [
       "<Figure size 1200x600 with 1 Axes>"
      ]
     },
     "metadata": {},
     "output_type": "display_data"
    },
    {
     "name": "stdout",
     "output_type": "stream",
     "text": [
      "\u001b[1mStructure of The ARIMA Model For HD04-T: (0, 2, 2)\u001b[0m\n",
      "\n",
      "\n",
      "\u001b[1mModel Summary:\u001b[0m\n",
      "                               SARIMAX Results                                \n",
      "==============================================================================\n",
      "Dep. Variable:                 HD04-T   No. Observations:                   36\n",
      "Model:                 ARIMA(0, 2, 2)   Log Likelihood                -392.311\n",
      "Date:                Sat, 15 Jul 2023   AIC                            790.621\n",
      "Time:                        19:18:08   BIC                            795.200\n",
      "Sample:                    01-01-2020   HQIC                           792.183\n",
      "                         - 12-01-2022                                         \n",
      "Covariance Type:                  opg                                         \n",
      "==============================================================================\n",
      "                 coef    std err          z      P>|z|      [0.025      0.975]\n",
      "------------------------------------------------------------------------------\n",
      "ma.L1         -0.7361      0.230     -3.198      0.001      -1.187      -0.285\n",
      "ma.L2         -0.2458      0.175     -1.405      0.160      -0.589       0.097\n",
      "sigma2      6.062e+08   4.37e-10   1.39e+18      0.000    6.06e+08    6.06e+08\n",
      "===================================================================================\n",
      "Ljung-Box (L1) (Q):                   2.76   Jarque-Bera (JB):                 3.49\n",
      "Prob(Q):                              0.10   Prob(JB):                         0.17\n",
      "Heteroskedasticity (H):               1.14   Skew:                            -0.51\n",
      "Prob(H) (two-sided):                  0.83   Kurtosis:                         4.19\n",
      "===================================================================================\n",
      "\n",
      "Warnings:\n",
      "[1] Covariance matrix calculated using the outer product of gradients (complex-step).\n",
      "[2] Covariance matrix is singular or near-singular, with condition number    inf. Standard errors may be unstable.\n",
      "\n",
      "\n",
      "\u001b[1mPlotting the ACF and PACF:\u001b[0m\n"
     ]
    },
    {
     "data": {
      "image/png": "[encoded data removed]",
      "text/plain": [
       "<Figure size 1200x600 with 2 Axes>"
      ]
     },
     "metadata": {},
     "output_type": "display_data"
    },
    {
     "name": "stdout",
     "output_type": "stream",
     "text": [
      "\n",
      "\n",
      "\u001b[1mTest of if the Residuals Are Stationary Using the ADF Test:\u001b[0m\n",
      "ADF Statistic: -4.782471490532344\n",
      "p-value: 5.874429736073958e-05\n",
      "The residuals are stationary.\n",
      "\n",
      "\n",
      "\u001b[1mTest of if No Autocorrelation Using the Ljung-Box Test:\u001b[0m\n",
      "Ljung-Box Statistic: 5.924107977069232\n",
      "p-value: 0.8215985311602747\n",
      "There is no significant autocorrelation in the residuals.\n",
      "\n",
      "\n",
      "\u001b[1mPrediction vs Observed Values:\u001b[0m\n",
      "predicted=77837.585823, expected=90191.000000\n",
      "predicted=94705.884051, expected=104108.000000\n",
      "predicted=110485.453979, expected=90329.000000\n",
      "predicted=83065.224134, expected=84935.600000\n",
      "predicted=84840.799731, expected=84935.600000\n",
      "predicted=84689.586282, expected=84935.600000\n",
      "predicted=86976.795680, expected=84935.600000\n",
      "predicted=86742.603462, expected=84935.600000\n",
      "predicted=86731.341888, expected=100834.000000\n",
      "predicted=109483.555270, expected=86545.000000\n",
      "predicted=80007.070543, expected=84072.000000\n",
      "predicted=87874.766175, expected=129093.000000\n",
      "predicted=149284.302377, expected=125353.000000\n",
      "predicted=119972.353690, expected=112288.000000\n",
      "predicted=112358.828618, expected=146429.000000\n",
      "predicted=163783.750940, expected=84935.600000\n",
      "predicted=61929.866955, expected=84935.600000\n",
      "predicted=91500.112005, expected=84935.600000\n",
      "predicted=85144.560159, expected=84935.600000\n",
      "predicted=86890.232637, expected=84935.600000\n",
      "\n",
      "\n",
      "\u001b[1mPrediction Performance & Results:\u001b[0m\n",
      "Item: HD04-T\n",
      "Best ARIMA Structure is: (0, 2, 2)\n",
      "Best AIC found is: 790.6211960038829\n",
      "The RMSE of the predictions is: 24170.85268320761\n",
      "Mean Absolute Percentage Error of the prediction is: 15.44143116634713%\n"
     ]
    },
    {
     "data": {
      "application/vnd.plotly.v1+json": {
       "config": {
        "plotlyServerURL": "https://plot.ly"
       },
       "data": [
        {
         "line": {
          "color": "skyblue",
          "width": 2.5
         },
         "mode": "lines",
         "name": "Test Data",
         "type": "scatter",
         "x": [
          0,
          1,
          2,
          3,
          4,
          5,
          6,
          7,
          8,
          9,
          10,
          11,
          12,
          13,
          14,
          15,
          16,
          17,
          18,
          19
         ],
         "y": [
          90191,
          104108,
          90329,
          84935.6,
          84935.6,
          84935.6,
          84935.6,
          84935.6,
          100834,
          86545,
          84072,
          129093,
          125353,
          112288,
          146429,
          84935.6,
          84935.6,
          84935.6,
          84935.6,
          84935.6
         ]
        },
        {
         "line": {
          "color": "red",
          "dash": "dash",
          "width": 2.5
         },
         "mode": "lines",
         "name": "Predicted Data",
         "type": "scatter",
         "x": [
          0,
          1,
          2,
          3,
          4,
          5,
          6,
          7,
          8,
          9,
          10,
          11,
          12,
          13,
          14,
          15,
          16,
          17,
          18,
          19
         ],
         "y": [
          77837.58582271644,
          94705.88405115796,
          110485.45397893818,
          83065.2241335718,
          84840.79973128252,
          84689.58628187391,
          86976.79568009666,
          86742.60346203824,
          86731.34188824033,
          109483.5552699633,
          80007.07054278113,
          87874.76617469727,
          149284.3023773962,
          119972.35369004548,
          112358.82861772394,
          163783.75093962476,
          61929.866955078214,
          91500.11200451116,
          85144.5601591868,
          86890.23263681024
         ]
        },
        {
         "fill": "toself",
         "fillcolor": "rgba(255, 105, 180, 0.3)",
         "hoverinfo": "skip",
         "line": {
          "color": "rgba(255,255,255,0)"
         },
         "name": "95% Confidence Interval",
         "showlegend": false,
         "type": "scatter",
         "x": [
          0,
          1,
          2,
          3,
          4,
          5,
          6,
          7,
          8,
          9,
          10,
          11,
          12,
          13,
          14,
          15,
          16,
          17,
          18,
          19,
          19,
          18,
          17,
          16,
          15,
          14,
          13,
          12,
          11,
          10,
          9,
          8,
          7,
          6,
          5,
          4,
          3,
          2,
          1,
          0
         ],
         "y": [
          117334.87695446808,
          147885.28110644035,
          155760.63834323914,
          126826.36346361882,
          127153.78608106304,
          124717.31077628589,
          129863.06766851843,
          128575.11788509815,
          127548.69108982559,
          146301.3098549209,
          120510.81025408275,
          127565.65101761033,
          191405.41602077775,
          162100.99065495253,
          153155.94792484742,
          207927.15102306986,
          118920.38183719802,
          141314.79269270384,
          136586.16010650207,
          134494.31400535285,
          39286.15126826761,
          33702.96021187153,
          41685.43131631849,
          4939.3520729584125,
          119640.35085617966,
          71561.70931060045,
          77843.71672513842,
          107163.18873401466,
          48183.88133178422,
          39503.33083147951,
          72665.8006850057,
          45913.99268665509,
          44910.08903897834,
          44090.523691674905,
          44661.86178746194,
          42527.813381502,
          39304.08480352478,
          65210.26961463722,
          41526.48699587558,
          38340.2946909648
         ]
        }
       ],
       "layout": {
        "template": {
         "data": {
          "bar": [
           {
            "error_x": {
             "color": "#2a3f5f"
            },
            "error_y": {
             "color": "#2a3f5f"
            },
            "marker": {
             "line": {
              "color": "#E5ECF6",
              "width": 0.5
             },
             "pattern": {
              "fillmode": "overlay",
              "size": 10,
              "solidity": 0.2
             }
            },
            "type": "bar"
           }
          ],
          "barpolar": [
           {
            "marker": {
             "line": {
              "color": "#E5ECF6",
              "width": 0.5
             },
             "pattern": {
              "fillmode": "overlay",
              "size": 10,
              "solidity": 0.2
             }
            },
            "type": "barpolar"
           }
          ],
          "carpet": [
           {
            "aaxis": {
             "endlinecolor": "#2a3f5f",
             "gridcolor": "white",
             "linecolor": "white",
             "minorgridcolor": "white",
             "startlinecolor": "#2a3f5f"
            },
            "baxis": {
             "endlinecolor": "#2a3f5f",
             "gridcolor": "white",
             "linecolor": "white",
             "minorgridcolor": "white",
             "startlinecolor": "#2a3f5f"
            },
            "type": "carpet"
           }
          ],
          "choropleth": [
           {
            "colorbar": {
             "outlinewidth": 0,
             "ticks": ""
            },
            "type": "choropleth"
           }
          ],
          "contour": [
           {
            "colorbar": {
             "outlinewidth": 0,
             "ticks": ""
            },
            "colorscale": [
             [
              0,
              "#0d0887"
             ],
             [
              0.1111111111111111,
              "#46039f"
             ],
             [
              0.2222222222222222,
              "#7201a8"
             ],
             [
              0.3333333333333333,
              "#9c179e"
             ],
             [
              0.4444444444444444,
              "#bd3786"
             ],
             [
              0.5555555555555556,
              "#d8576b"
             ],
             [
              0.6666666666666666,
              "#ed7953"
             ],
             [
              0.7777777777777778,
              "#fb9f3a"
             ],
             [
              0.8888888888888888,
              "#fdca26"
             ],
             [
              1,
              "#f0f921"
             ]
            ],
            "type": "contour"
           }
          ],
          "contourcarpet": [
           {
            "colorbar": {
             "outlinewidth": 0,
             "ticks": ""
            },
            "type": "contourcarpet"
           }
          ],
          "heatmap": [
           {
            "colorbar": {
             "outlinewidth": 0,
             "ticks": ""
            },
            "colorscale": [
             [
              0,
              "#0d0887"
             ],
             [
              0.1111111111111111,
              "#46039f"
             ],
             [
              0.2222222222222222,
              "#7201a8"
             ],
             [
              0.3333333333333333,
              "#9c179e"
             ],
             [
              0.4444444444444444,
              "#bd3786"
             ],
             [
              0.5555555555555556,
              "#d8576b"
             ],
             [
              0.6666666666666666,
              "#ed7953"
             ],
             [
              0.7777777777777778,
              "#fb9f3a"
             ],
             [
              0.8888888888888888,
              "#fdca26"
             ],
             [
              1,
              "#f0f921"
             ]
            ],
            "type": "heatmap"
           }
          ],
          "heatmapgl": [
           {
            "colorbar": {
             "outlinewidth": 0,
             "ticks": ""
            },
            "colorscale": [
             [
              0,
              "#0d0887"
             ],
             [
              0.1111111111111111,
              "#46039f"
             ],
             [
              0.2222222222222222,
              "#7201a8"
             ],
             [
              0.3333333333333333,
              "#9c179e"
             ],
             [
              0.4444444444444444,
              "#bd3786"
             ],
             [
              0.5555555555555556,
              "#d8576b"
             ],
             [
              0.6666666666666666,
              "#ed7953"
             ],
             [
              0.7777777777777778,
              "#fb9f3a"
             ],
             [
              0.8888888888888888,
              "#fdca26"
             ],
             [
              1,
              "#f0f921"
             ]
            ],
            "type": "heatmapgl"
           }
          ],
          "histogram": [
           {
            "marker": {
             "pattern": {
              "fillmode": "overlay",
              "size": 10,
              "solidity": 0.2
             }
            },
            "type": "histogram"
           }
          ],
          "histogram2d": [
           {
            "colorbar": {
             "outlinewidth": 0,
             "ticks": ""
            },
            "colorscale": [
             [
              0,
              "#0d0887"
             ],
             [
              0.1111111111111111,
              "#46039f"
             ],
             [
              0.2222222222222222,
              "#7201a8"
             ],
             [
              0.3333333333333333,
              "#9c179e"
             ],
             [
              0.4444444444444444,
              "#bd3786"
             ],
             [
              0.5555555555555556,
              "#d8576b"
             ],
             [
              0.6666666666666666,
              "#ed7953"
             ],
             [
              0.7777777777777778,
              "#fb9f3a"
             ],
             [
              0.8888888888888888,
              "#fdca26"
             ],
             [
              1,
              "#f0f921"
             ]
            ],
            "type": "histogram2d"
           }
          ],
          "histogram2dcontour": [
           {
            "colorbar": {
             "outlinewidth": 0,
             "ticks": ""
            },
            "colorscale": [
             [
              0,
              "#0d0887"
             ],
             [
              0.1111111111111111,
              "#46039f"
             ],
             [
              0.2222222222222222,
              "#7201a8"
             ],
             [
              0.3333333333333333,
              "#9c179e"
             ],
             [
              0.4444444444444444,
              "#bd3786"
             ],
             [
              0.5555555555555556,
              "#d8576b"
             ],
             [
              0.6666666666666666,
              "#ed7953"
             ],
             [
              0.7777777777777778,
              "#fb9f3a"
             ],
             [
              0.8888888888888888,
              "#fdca26"
             ],
             [
              1,
              "#f0f921"
             ]
            ],
            "type": "histogram2dcontour"
           }
          ],
          "mesh3d": [
           {
            "colorbar": {
             "outlinewidth": 0,
             "ticks": ""
            },
            "type": "mesh3d"
           }
          ],
          "parcoords": [
           {
            "line": {
             "colorbar": {
              "outlinewidth": 0,
              "ticks": ""
             }
            },
            "type": "parcoords"
           }
          ],
          "pie": [
           {
            "automargin": true,
            "type": "pie"
           }
          ],
          "scatter": [
           {
            "marker": {
             "colorbar": {
              "outlinewidth": 0,
              "ticks": ""
             }
            },
            "type": "scatter"
           }
          ],
          "scatter3d": [
           {
            "line": {
             "colorbar": {
              "outlinewidth": 0,
              "ticks": ""
             }
            },
            "marker": {
             "colorbar": {
              "outlinewidth": 0,
              "ticks": ""
             }
            },
            "type": "scatter3d"
           }
          ],
          "scattercarpet": [
           {
            "marker": {
             "colorbar": {
              "outlinewidth": 0,
              "ticks": ""
             }
            },
            "type": "scattercarpet"
           }
          ],
          "scattergeo": [
           {
            "marker": {
             "colorbar": {
              "outlinewidth": 0,
              "ticks": ""
             }
            },
            "type": "scattergeo"
           }
          ],
          "scattergl": [
           {
            "marker": {
             "colorbar": {
              "outlinewidth": 0,
              "ticks": ""
             }
            },
            "type": "scattergl"
           }
          ],
          "scattermapbox": [
           {
            "marker": {
             "colorbar": {
              "outlinewidth": 0,
              "ticks": ""
             }
            },
            "type": "scattermapbox"
           }
          ],
          "scatterpolar": [
           {
            "marker": {
             "colorbar": {
              "outlinewidth": 0,
              "ticks": ""
             }
            },
            "type": "scatterpolar"
           }
          ],
          "scatterpolargl": [
           {
            "marker": {
             "colorbar": {
              "outlinewidth": 0,
              "ticks": ""
             }
            },
            "type": "scatterpolargl"
           }
          ],
          "scatterternary": [
           {
            "marker": {
             "colorbar": {
              "outlinewidth": 0,
              "ticks": ""
             }
            },
            "type": "scatterternary"
           }
          ],
          "surface": [
           {
            "colorbar": {
             "outlinewidth": 0,
             "ticks": ""
            },
            "colorscale": [
             [
              0,
              "#0d0887"
             ],
             [
              0.1111111111111111,
              "#46039f"
             ],
             [
              0.2222222222222222,
              "#7201a8"
             ],
             [
              0.3333333333333333,
              "#9c179e"
             ],
             [
              0.4444444444444444,
              "#bd3786"
             ],
             [
              0.5555555555555556,
              "#d8576b"
             ],
             [
              0.6666666666666666,
              "#ed7953"
             ],
             [
              0.7777777777777778,
              "#fb9f3a"
             ],
             [
              0.8888888888888888,
              "#fdca26"
             ],
             [
              1,
              "#f0f921"
             ]
            ],
            "type": "surface"
           }
          ],
          "table": [
           {
            "cells": {
             "fill": {
              "color": "#EBF0F8"
             },
             "line": {
              "color": "white"
             }
            },
            "header": {
             "fill": {
              "color": "#C8D4E3"
             },
             "line": {
              "color": "white"
             }
            },
            "type": "table"
           }
          ]
         },
         "layout": {
          "annotationdefaults": {
           "arrowcolor": "#2a3f5f",
           "arrowhead": 0,
           "arrowwidth": 1
          },
          "autotypenumbers": "strict",
          "coloraxis": {
           "colorbar": {
            "outlinewidth": 0,
            "ticks": ""
           }
          },
          "colorscale": {
           "diverging": [
            [
             0,
             "#8e0152"
            ],
            [
             0.1,
             "#c51b7d"
            ],
            [
             0.2,
             "#de77ae"
            ],
            [
             0.3,
             "#f1b6da"
            ],
            [
             0.4,
             "#fde0ef"
            ],
            [
             0.5,
             "#f7f7f7"
            ],
            [
             0.6,
             "#e6f5d0"
            ],
            [
             0.7,
             "#b8e186"
            ],
            [
             0.8,
             "#7fbc41"
            ],
            [
             0.9,
             "#4d9221"
            ],
            [
             1,
             "#276419"
            ]
           ],
           "sequential": [
            [
             0,
             "#0d0887"
            ],
            [
             0.1111111111111111,
             "#46039f"
            ],
            [
             0.2222222222222222,
             "#7201a8"
            ],
            [
             0.3333333333333333,
             "#9c179e"
            ],
            [
             0.4444444444444444,
             "#bd3786"
            ],
            [
             0.5555555555555556,
             "#d8576b"
            ],
            [
             0.6666666666666666,
             "#ed7953"
            ],
            [
             0.7777777777777778,
             "#fb9f3a"
            ],
            [
             0.8888888888888888,
             "#fdca26"
            ],
            [
             1,
             "#f0f921"
            ]
           ],
           "sequentialminus": [
            [
             0,
             "#0d0887"
            ],
            [
             0.1111111111111111,
             "#46039f"
            ],
            [
             0.2222222222222222,
             "#7201a8"
            ],
            [
             0.3333333333333333,
             "#9c179e"
            ],
            [
             0.4444444444444444,
             "#bd3786"
            ],
            [
             0.5555555555555556,
             "#d8576b"
            ],
            [
             0.6666666666666666,
             "#ed7953"
            ],
            [
             0.7777777777777778,
             "#fb9f3a"
            ],
            [
             0.8888888888888888,
             "#fdca26"
            ],
            [
             1,
             "#f0f921"
            ]
           ]
          },
          "colorway": [
           "#636efa",
           "#EF553B",
           "#00cc96",
           "#ab63fa",
           "#FFA15A",
           "#19d3f3",
           "#FF6692",
           "#B6E880",
           "#FF97FF",
           "#FECB52"
          ],
          "font": {
           "color": "#2a3f5f"
          },
          "geo": {
           "bgcolor": "white",
           "lakecolor": "white",
           "landcolor": "#E5ECF6",
           "showlakes": true,
           "showland": true,
           "subunitcolor": "white"
          },
          "hoverlabel": {
           "align": "left"
          },
          "hovermode": "closest",
          "mapbox": {
           "style": "light"
          },
          "paper_bgcolor": "white",
          "plot_bgcolor": "#E5ECF6",
          "polar": {
           "angularaxis": {
            "gridcolor": "white",
            "linecolor": "white",
            "ticks": ""
           },
           "bgcolor": "#E5ECF6",
           "radialaxis": {
            "gridcolor": "white",
            "linecolor": "white",
            "ticks": ""
           }
          },
          "scene": {
           "xaxis": {
            "backgroundcolor": "#E5ECF6",
            "gridcolor": "white",
            "gridwidth": 2,
            "linecolor": "white",
            "showbackground": true,
            "ticks": "",
            "zerolinecolor": "white"
           },
           "yaxis": {
            "backgroundcolor": "#E5ECF6",
            "gridcolor": "white",
            "gridwidth": 2,
            "linecolor": "white",
            "showbackground": true,
            "ticks": "",
            "zerolinecolor": "white"
           },
           "zaxis": {
            "backgroundcolor": "#E5ECF6",
            "gridcolor": "white",
            "gridwidth": 2,
            "linecolor": "white",
            "showbackground": true,
            "ticks": "",
            "zerolinecolor": "white"
           }
          },
          "shapedefaults": {
           "line": {
            "color": "#2a3f5f"
           }
          },
          "ternary": {
           "aaxis": {
            "gridcolor": "white",
            "linecolor": "white",
            "ticks": ""
           },
           "baxis": {
            "gridcolor": "white",
            "linecolor": "white",
            "ticks": ""
           },
           "bgcolor": "#E5ECF6",
           "caxis": {
            "gridcolor": "white",
            "linecolor": "white",
            "ticks": ""
           }
          },
          "title": {
           "x": 0.05
          },
          "xaxis": {
           "automargin": true,
           "gridcolor": "white",
           "linecolor": "white",
           "ticks": "",
           "title": {
            "standoff": 15
           },
           "zerolinecolor": "white",
           "zerolinewidth": 2
          },
          "yaxis": {
           "automargin": true,
           "gridcolor": "white",
           "linecolor": "white",
           "ticks": "",
           "title": {
            "standoff": 15
           },
           "zerolinecolor": "white",
           "zerolinewidth": 2
          }
         }
        },
        "title": {
         "font": {
          "size": 20
         },
         "text": "HD04-T vs Predicted HD04-T with Confidence Interval",
         "x": 0.5
        },
        "xaxis": {
         "title": {
          "font": {
           "size": 15
          },
          "text": "Time"
         }
        },
        "yaxis": {
         "title": {
          "font": {
           "size": 15
          },
          "text": "HD04-T"
         }
        }
       }
      },
      "text/html": [
       "<div>                            <div id=\"a97ad47f-0237-4253-847f-6ebe553d91fa\" class=\"plotly-graph-div\" style=\"height:525px; width:100%;\"></div>            <script type=\"text/javascript\">                require([\"plotly\"], function(Plotly) {                    window.PLOTLYENV=window.PLOTLYENV || {};                                    if (document.getElementById(\"a97ad47f-0237-4253-847f-6ebe553d91fa\")) {                    Plotly.newPlot(                        \"a97ad47f-0237-4253-847f-6ebe553d91fa\",                        [{\"line\":{\"color\":\"skyblue\",\"width\":2.5},\"mode\":\"lines\",\"name\":\"Test Data\",\"type\":\"scatter\",\"x\":[0,1,2,3,4,5,6,7,8,9,10,11,12,13,14,15,16,17,18,19],\"y\":[90191.0,104108.0,90329.0,84935.6,84935.6,84935.6,84935.6,84935.6,100834.0,86545.0,84072.0,129093.0,125353.0,112288.0,146429.0,84935.6,84935.6,84935.6,84935.6,84935.6]},{\"line\":{\"color\":\"red\",\"dash\":\"dash\",\"width\":2.5},\"mode\":\"lines\",\"name\":\"Predicted Data\",\"type\":\"scatter\",\"x\":[0,1,2,3,4,5,6,7,8,9,10,11,12,13,14,15,16,17,18,19],\"y\":[77837.58582271644,94705.88405115796,110485.45397893818,83065.2241335718,84840.79973128252,84689.58628187391,86976.79568009666,86742.60346203824,86731.34188824033,109483.5552699633,80007.07054278113,87874.76617469727,149284.3023773962,119972.35369004548,112358.82861772394,163783.75093962476,61929.866955078214,91500.11200451116,85144.5601591868,86890.23263681024]},{\"fill\":\"toself\",\"fillcolor\":\"rgba(255, 105, 180, 0.3)\",\"hoverinfo\":\"skip\",\"line\":{\"color\":\"rgba(255,255,255,0)\"},\"name\":\"95% Confidence Interval\",\"showlegend\":false,\"type\":\"scatter\",\"x\":[0,1,2,3,4,5,6,7,8,9,10,11,12,13,14,15,16,17,18,19,19,18,17,16,15,14,13,12,11,10,9,8,7,6,5,4,3,2,1,0],\"y\":[117334.87695446808,147885.28110644035,155760.63834323914,126826.36346361882,127153.78608106304,124717.31077628589,129863.06766851843,128575.11788509815,127548.69108982559,146301.3098549209,120510.81025408275,127565.65101761033,191405.41602077775,162100.99065495253,153155.94792484742,207927.15102306986,118920.38183719802,141314.79269270384,136586.16010650207,134494.31400535285,39286.15126826761,33702.96021187153,41685.43131631849,4939.3520729584125,119640.35085617966,71561.70931060045,77843.71672513842,107163.18873401466,48183.88133178422,39503.33083147951,72665.8006850057,45913.99268665509,44910.08903897834,44090.523691674905,44661.86178746194,42527.813381502,39304.08480352478,65210.26961463722,41526.48699587558,38340.2946909648]}],                        {\"template\":{\"data\":{\"bar\":[{\"error_x\":{\"color\":\"#2a3f5f\"},\"error_y\":{\"color\":\"#2a3f5f\"},\"marker\":{\"line\":{\"color\":\"#E5ECF6\",\"width\":0.5},\"pattern\":{\"fillmode\":\"overlay\",\"size\":10,\"solidity\":0.2}},\"type\":\"bar\"}],\"barpolar\":[{\"marker\":{\"line\":{\"color\":\"#E5ECF6\",\"width\":0.5},\"pattern\":{\"fillmode\":\"overlay\",\"size\":10,\"solidity\":0.2}},\"type\":\"barpolar\"}],\"carpet\":[{\"aaxis\":{\"endlinecolor\":\"#2a3f5f\",\"gridcolor\":\"white\",\"linecolor\":\"white\",\"minorgridcolor\":\"white\",\"startlinecolor\":\"#2a3f5f\"},\"baxis\":{\"endlinecolor\":\"#2a3f5f\",\"gridcolor\":\"white\",\"linecolor\":\"white\",\"minorgridcolor\":\"white\",\"startlinecolor\":\"#2a3f5f\"},\"type\":\"carpet\"}],\"choropleth\":[{\"colorbar\":{\"outlinewidth\":0,\"ticks\":\"\"},\"type\":\"choropleth\"}],\"contour\":[{\"colorbar\":{\"outlinewidth\":0,\"ticks\":\"\"},\"colorscale\":[[0.0,\"#0d0887\"],[0.1111111111111111,\"#46039f\"],[0.2222222222222222,\"#7201a8\"],[0.3333333333333333,\"#9c179e\"],[0.4444444444444444,\"#bd3786\"],[0.5555555555555556,\"#d8576b\"],[0.6666666666666666,\"#ed7953\"],[0.7777777777777778,\"#fb9f3a\"],[0.8888888888888888,\"#fdca26\"],[1.0,\"#f0f921\"]],\"type\":\"contour\"}],\"contourcarpet\":[{\"colorbar\":{\"outlinewidth\":0,\"ticks\":\"\"},\"type\":\"contourcarpet\"}],\"heatmap\":[{\"colorbar\":{\"outlinewidth\":0,\"ticks\":\"\"},\"colorscale\":[[0.0,\"#0d0887\"],[0.1111111111111111,\"#46039f\"],[0.2222222222222222,\"#7201a8\"],[0.3333333333333333,\"#9c179e\"],[0.4444444444444444,\"#bd3786\"],[0.5555555555555556,\"#d8576b\"],[0.6666666666666666,\"#ed7953\"],[0.7777777777777778,\"#fb9f3a\"],[0.8888888888888888,\"#fdca26\"],[1.0,\"#f0f921\"]],\"type\":\"heatmap\"}],\"heatmapgl\":[{\"colorbar\":{\"outlinewidth\":0,\"ticks\":\"\"},\"colorscale\":[[0.0,\"#0d0887\"],[0.1111111111111111,\"#46039f\"],[0.2222222222222222,\"#7201a8\"],[0.3333333333333333,\"#9c179e\"],[0.4444444444444444,\"#bd3786\"],[0.5555555555555556,\"#d8576b\"],[0.6666666666666666,\"#ed7953\"],[0.7777777777777778,\"#fb9f3a\"],[0.8888888888888888,\"#fdca26\"],[1.0,\"#f0f921\"]],\"type\":\"heatmapgl\"}],\"histogram\":[{\"marker\":{\"pattern\":{\"fillmode\":\"overlay\",\"size\":10,\"solidity\":0.2}},\"type\":\"histogram\"}],\"histogram2d\":[{\"colorbar\":{\"outlinewidth\":0,\"ticks\":\"\"},\"colorscale\":[[0.0,\"#0d0887\"],[0.1111111111111111,\"#46039f\"],[0.2222222222222222,\"#7201a8\"],[0.3333333333333333,\"#9c179e\"],[0.4444444444444444,\"#bd3786\"],[0.5555555555555556,\"#d8576b\"],[0.6666666666666666,\"#ed7953\"],[0.7777777777777778,\"#fb9f3a\"],[0.8888888888888888,\"#fdca26\"],[1.0,\"#f0f921\"]],\"type\":\"histogram2d\"}],\"histogram2dcontour\":[{\"colorbar\":{\"outlinewidth\":0,\"ticks\":\"\"},\"colorscale\":[[0.0,\"#0d0887\"],[0.1111111111111111,\"#46039f\"],[0.2222222222222222,\"#7201a8\"],[0.3333333333333333,\"#9c179e\"],[0.4444444444444444,\"#bd3786\"],[0.5555555555555556,\"#d8576b\"],[0.6666666666666666,\"#ed7953\"],[0.7777777777777778,\"#fb9f3a\"],[0.8888888888888888,\"#fdca26\"],[1.0,\"#f0f921\"]],\"type\":\"histogram2dcontour\"}],\"mesh3d\":[{\"colorbar\":{\"outlinewidth\":0,\"ticks\":\"\"},\"type\":\"mesh3d\"}],\"parcoords\":[{\"line\":{\"colorbar\":{\"outlinewidth\":0,\"ticks\":\"\"}},\"type\":\"parcoords\"}],\"pie\":[{\"automargin\":true,\"type\":\"pie\"}],\"scatter\":[{\"marker\":{\"colorbar\":{\"outlinewidth\":0,\"ticks\":\"\"}},\"type\":\"scatter\"}],\"scatter3d\":[{\"line\":{\"colorbar\":{\"outlinewidth\":0,\"ticks\":\"\"}},\"marker\":{\"colorbar\":{\"outlinewidth\":0,\"ticks\":\"\"}},\"type\":\"scatter3d\"}],\"scattercarpet\":[{\"marker\":{\"colorbar\":{\"outlinewidth\":0,\"ticks\":\"\"}},\"type\":\"scattercarpet\"}],\"scattergeo\":[{\"marker\":{\"colorbar\":{\"outlinewidth\":0,\"ticks\":\"\"}},\"type\":\"scattergeo\"}],\"scattergl\":[{\"marker\":{\"colorbar\":{\"outlinewidth\":0,\"ticks\":\"\"}},\"type\":\"scattergl\"}],\"scattermapbox\":[{\"marker\":{\"colorbar\":{\"outlinewidth\":0,\"ticks\":\"\"}},\"type\":\"scattermapbox\"}],\"scatterpolar\":[{\"marker\":{\"colorbar\":{\"outlinewidth\":0,\"ticks\":\"\"}},\"type\":\"scatterpolar\"}],\"scatterpolargl\":[{\"marker\":{\"colorbar\":{\"outlinewidth\":0,\"ticks\":\"\"}},\"type\":\"scatterpolargl\"}],\"scatterternary\":[{\"marker\":{\"colorbar\":{\"outlinewidth\":0,\"ticks\":\"\"}},\"type\":\"scatterternary\"}],\"surface\":[{\"colorbar\":{\"outlinewidth\":0,\"ticks\":\"\"},\"colorscale\":[[0.0,\"#0d0887\"],[0.1111111111111111,\"#46039f\"],[0.2222222222222222,\"#7201a8\"],[0.3333333333333333,\"#9c179e\"],[0.4444444444444444,\"#bd3786\"],[0.5555555555555556,\"#d8576b\"],[0.6666666666666666,\"#ed7953\"],[0.7777777777777778,\"#fb9f3a\"],[0.8888888888888888,\"#fdca26\"],[1.0,\"#f0f921\"]],\"type\":\"surface\"}],\"table\":[{\"cells\":{\"fill\":{\"color\":\"#EBF0F8\"},\"line\":{\"color\":\"white\"}},\"header\":{\"fill\":{\"color\":\"#C8D4E3\"},\"line\":{\"color\":\"white\"}},\"type\":\"table\"}]},\"layout\":{\"annotationdefaults\":{\"arrowcolor\":\"#2a3f5f\",\"arrowhead\":0,\"arrowwidth\":1},\"autotypenumbers\":\"strict\",\"coloraxis\":{\"colorbar\":{\"outlinewidth\":0,\"ticks\":\"\"}},\"colorscale\":{\"diverging\":[[0,\"#8e0152\"],[0.1,\"#c51b7d\"],[0.2,\"#de77ae\"],[0.3,\"#f1b6da\"],[0.4,\"#fde0ef\"],[0.5,\"#f7f7f7\"],[0.6,\"#e6f5d0\"],[0.7,\"#b8e186\"],[0.8,\"#7fbc41\"],[0.9,\"#4d9221\"],[1,\"#276419\"]],\"sequential\":[[0.0,\"#0d0887\"],[0.1111111111111111,\"#46039f\"],[0.2222222222222222,\"#7201a8\"],[0.3333333333333333,\"#9c179e\"],[0.4444444444444444,\"#bd3786\"],[0.5555555555555556,\"#d8576b\"],[0.6666666666666666,\"#ed7953\"],[0.7777777777777778,\"#fb9f3a\"],[0.8888888888888888,\"#fdca26\"],[1.0,\"#f0f921\"]],\"sequentialminus\":[[0.0,\"#0d0887\"],[0.1111111111111111,\"#46039f\"],[0.2222222222222222,\"#7201a8\"],[0.3333333333333333,\"#9c179e\"],[0.4444444444444444,\"#bd3786\"],[0.5555555555555556,\"#d8576b\"],[0.6666666666666666,\"#ed7953\"],[0.7777777777777778,\"#fb9f3a\"],[0.8888888888888888,\"#fdca26\"],[1.0,\"#f0f921\"]]},\"colorway\":[\"#636efa\",\"#EF553B\",\"#00cc96\",\"#ab63fa\",\"#FFA15A\",\"#19d3f3\",\"#FF6692\",\"#B6E880\",\"#FF97FF\",\"#FECB52\"],\"font\":{\"color\":\"#2a3f5f\"},\"geo\":{\"bgcolor\":\"white\",\"lakecolor\":\"white\",\"landcolor\":\"#E5ECF6\",\"showlakes\":true,\"showland\":true,\"subunitcolor\":\"white\"},\"hoverlabel\":{\"align\":\"left\"},\"hovermode\":\"closest\",\"mapbox\":{\"style\":\"light\"},\"paper_bgcolor\":\"white\",\"plot_bgcolor\":\"#E5ECF6\",\"polar\":{\"angularaxis\":{\"gridcolor\":\"white\",\"linecolor\":\"white\",\"ticks\":\"\"},\"bgcolor\":\"#E5ECF6\",\"radialaxis\":{\"gridcolor\":\"white\",\"linecolor\":\"white\",\"ticks\":\"\"}},\"scene\":{\"xaxis\":{\"backgroundcolor\":\"#E5ECF6\",\"gridcolor\":\"white\",\"gridwidth\":2,\"linecolor\":\"white\",\"showbackground\":true,\"ticks\":\"\",\"zerolinecolor\":\"white\"},\"yaxis\":{\"backgroundcolor\":\"#E5ECF6\",\"gridcolor\":\"white\",\"gridwidth\":2,\"linecolor\":\"white\",\"showbackground\":true,\"ticks\":\"\",\"zerolinecolor\":\"white\"},\"zaxis\":{\"backgroundcolor\":\"#E5ECF6\",\"gridcolor\":\"white\",\"gridwidth\":2,\"linecolor\":\"white\",\"showbackground\":true,\"ticks\":\"\",\"zerolinecolor\":\"white\"}},\"shapedefaults\":{\"line\":{\"color\":\"#2a3f5f\"}},\"ternary\":{\"aaxis\":{\"gridcolor\":\"white\",\"linecolor\":\"white\",\"ticks\":\"\"},\"baxis\":{\"gridcolor\":\"white\",\"linecolor\":\"white\",\"ticks\":\"\"},\"bgcolor\":\"#E5ECF6\",\"caxis\":{\"gridcolor\":\"white\",\"linecolor\":\"white\",\"ticks\":\"\"}},\"title\":{\"x\":0.05},\"xaxis\":{\"automargin\":true,\"gridcolor\":\"white\",\"linecolor\":\"white\",\"ticks\":\"\",\"title\":{\"standoff\":15},\"zerolinecolor\":\"white\",\"zerolinewidth\":2},\"yaxis\":{\"automargin\":true,\"gridcolor\":\"white\",\"linecolor\":\"white\",\"ticks\":\"\",\"title\":{\"standoff\":15},\"zerolinecolor\":\"white\",\"zerolinewidth\":2}}},\"title\":{\"font\":{\"size\":20},\"text\":\"HD04-T vs Predicted HD04-T with Confidence Interval\",\"x\":0.5},\"xaxis\":{\"title\":{\"font\":{\"size\":15},\"text\":\"Time\"}},\"yaxis\":{\"title\":{\"font\":{\"size\":15},\"text\":\"HD04-T\"}}},                        {\"responsive\": true}                    ).then(function(){\n",
       "                            \n",
       "var gd = document.getElementById('a97ad47f-0237-4253-847f-6ebe553d91fa');\n",
       "var x = new MutationObserver(function (mutations, observer) {{\n",
       "        var display = window.getComputedStyle(gd).display;\n",
       "        if (!display || display === 'none') {{\n",
       "            console.log([gd, 'removed!']);\n",
       "            Plotly.purge(gd);\n",
       "            observer.disconnect();\n",
       "        }}\n",
       "}});\n",
       "\n",
       "// Listen for the removal of the full notebook cells\n",
       "var notebookContainer = gd.closest('#notebook-container');\n",
       "if (notebookContainer) {{\n",
       "    x.observe(notebookContainer, {childList: true});\n",
       "}}\n",
       "\n",
       "// Listen for the clearing of the current output cell\n",
       "var outputEl = gd.closest('.output');\n",
       "if (outputEl) {{\n",
       "    x.observe(outputEl, {childList: true});\n",
       "}}\n",
       "\n",
       "                        })                };                });            </script>        </div>"
      ]
     },
     "metadata": {},
     "output_type": "display_data"
    },
    {
     "data": {
      "image/png": "[encoded data removed]",
      "text/plain": [
       "<Figure size 1200x600 with 1 Axes>"
      ]
     },
     "metadata": {},
     "output_type": "display_data"
    },
    {
     "name": "stdout",
     "output_type": "stream",
     "text": [
      "\u001b[1mStructure of The ARIMA Model For CSW-1001: (0, 2, 1)\u001b[0m\n",
      "\n",
      "\n",
      "\u001b[1mModel Summary:\u001b[0m\n",
      "                               SARIMAX Results                                \n",
      "==============================================================================\n",
      "Dep. Variable:               CSW-1001   No. Observations:                   36\n",
      "Model:                 ARIMA(0, 2, 1)   Log Likelihood                -395.632\n",
      "Date:                Sat, 15 Jul 2023   AIC                            795.264\n",
      "Time:                        19:18:19   BIC                            798.316\n",
      "Sample:                    01-01-2020   HQIC                           796.305\n",
      "                         - 12-01-2022                                         \n",
      "Covariance Type:                  opg                                         \n",
      "==============================================================================\n",
      "                 coef    std err          z      P>|z|      [0.025      0.975]\n",
      "------------------------------------------------------------------------------\n",
      "ma.L1         -0.9531      0.150     -6.342      0.000      -1.248      -0.659\n",
      "sigma2      8.816e+08   7.32e-11    1.2e+19      0.000    8.82e+08    8.82e+08\n",
      "===================================================================================\n",
      "Ljung-Box (L1) (Q):                   1.34   Jarque-Bera (JB):                24.72\n",
      "Prob(Q):                              0.25   Prob(JB):                         0.00\n",
      "Heteroskedasticity (H):               1.54   Skew:                             0.69\n",
      "Prob(H) (two-sided):                  0.49   Kurtosis:                         6.94\n",
      "===================================================================================\n",
      "\n",
      "Warnings:\n",
      "[1] Covariance matrix calculated using the outer product of gradients (complex-step).\n",
      "[2] Covariance matrix is singular or near-singular, with condition number    inf. Standard errors may be unstable.\n",
      "\n",
      "\n",
      "\u001b[1mPlotting the ACF and PACF:\u001b[0m\n"
     ]
    },
    {
     "data": {
      "image/png": "[encoded data removed]",
      "text/plain": [
       "<Figure size 1200x600 with 2 Axes>"
      ]
     },
     "metadata": {},
     "output_type": "display_data"
    },
    {
     "name": "stdout",
     "output_type": "stream",
     "text": [
      "\n",
      "\n",
      "\u001b[1mTest of if the Residuals Are Stationary Using the ADF Test:\u001b[0m\n",
      "ADF Statistic: -8.358529319610263\n",
      "p-value: 2.8651892710854115e-13\n",
      "The residuals are stationary.\n",
      "\n",
      "\n",
      "\u001b[1mTest of if No Autocorrelation Using the Ljung-Box Test:\u001b[0m\n",
      "Ljung-Box Statistic: 3.7830675905474878\n",
      "p-value: 0.9566029751969295\n",
      "There is no significant autocorrelation in the residuals.\n",
      "\n",
      "\n",
      "\u001b[1mPrediction vs Observed Values:\u001b[0m\n",
      "predicted=117679.483393, expected=89600.000000\n",
      "predicted=91219.601966, expected=89600.000000\n",
      "predicted=91162.128832, expected=89600.000000\n",
      "predicted=91146.350859, expected=75264.000000\n",
      "predicted=74509.414500, expected=75264.000000\n",
      "predicted=74815.998867, expected=75264.000000\n",
      "predicted=75059.530939, expected=75264.000000\n",
      "predicted=75205.205499, expected=75264.000000\n",
      "predicted=75311.141225, expected=0.000000\n",
      "predicted=-12603.350626, expected=0.000000\n",
      "predicted=-9257.243165, expected=0.000000\n",
      "predicted=-7227.569441, expected=0.000000\n",
      "predicted=-6166.211719, expected=0.000000\n",
      "predicted=-5305.249804, expected=0.000000\n",
      "predicted=-4579.378868, expected=0.000000\n",
      "predicted=-3999.123474, expected=75264.000000\n",
      "predicted=77772.860882, expected=75264.000000\n",
      "predicted=77566.032284, expected=75264.000000\n",
      "predicted=77365.072533, expected=75264.000000\n",
      "predicted=77275.332614, expected=75264.000000\n",
      "\n",
      "\n",
      "\u001b[1mPrediction Performance & Results:\u001b[0m\n",
      "Item: CSW-1001\n",
      "Best ARIMA Structure is: (0, 2, 1)\n",
      "Best AIC found is: 795.263698305804\n",
      "The RMSE of the predictions is: 25889.15499701905\n",
      "Mean Absolute Percentage Error of the prediction is: 13.469923588246328%\n"
     ]
    },
    {
     "data": {
      "application/vnd.plotly.v1+json": {
       "config": {
        "plotlyServerURL": "https://plot.ly"
       },
       "data": [
        {
         "line": {
          "color": "skyblue",
          "width": 2.5
         },
         "mode": "lines",
         "name": "Test Data",
         "type": "scatter",
         "x": [
          0,
          1,
          2,
          3,
          4,
          5,
          6,
          7,
          8,
          9,
          10,
          11,
          12,
          13,
          14,
          15,
          16,
          17,
          18,
          19
         ],
         "y": [
          89600,
          89600,
          89600,
          75264,
          75264,
          75264,
          75264,
          75264,
          0,
          0,
          0,
          0,
          0,
          0,
          0,
          75264,
          75264,
          75264,
          75264,
          75264
         ]
        },
        {
         "line": {
          "color": "red",
          "dash": "dash",
          "width": 2.5
         },
         "mode": "lines",
         "name": "Predicted Data",
         "type": "scatter",
         "x": [
          0,
          1,
          2,
          3,
          4,
          5,
          6,
          7,
          8,
          9,
          10,
          11,
          12,
          13,
          14,
          15,
          16,
          17,
          18,
          19
         ],
         "y": [
          117679.48339258094,
          91219.60196633669,
          91162.12883212582,
          91146.35085913392,
          74509.41449986711,
          74815.99886668926,
          75059.53093872301,
          75205.20549855907,
          75311.14122506625,
          -12603.350625812025,
          -9257.243164631262,
          -7227.569441361028,
          -6166.21171948446,
          -5305.249803808623,
          -4579.378868191548,
          -3999.123474451261,
          77772.86088190602,
          77566.03228367389,
          77365.07253339807,
          77275.3326137491
         ]
        },
        {
         "fill": "toself",
         "fillcolor": "rgba(255, 105, 180, 0.3)",
         "hoverinfo": "skip",
         "line": {
          "color": "rgba(255,255,255,0)"
         },
         "name": "95% Confidence Interval",
         "showlegend": false,
         "type": "scatter",
         "x": [
          0,
          1,
          2,
          3,
          4,
          5,
          6,
          7,
          8,
          9,
          10,
          11,
          12,
          13,
          14,
          15,
          16,
          17,
          18,
          19,
          19,
          18,
          17,
          16,
          15,
          14,
          13,
          12,
          11,
          10,
          9,
          8,
          7,
          6,
          5,
          4,
          3,
          2,
          1,
          0
         ],
         "y": [
          181195.66583329407,
          159789.98054392246,
          157303.71327962197,
          154642.23820576994,
          135875.8431010358,
          134170.05527333973,
          132287.87317529868,
          130861.2929456448,
          129539.26706995218,
          50081.05069831735,
          50915.84748028717,
          49021.116277152476,
          51406.47315993333,
          52218.30058767031,
          51733.22190300588,
          51175.761707610814,
          139187.90235829752,
          138070.11271967733,
          135534.9344712434,
          135877.80653402064,
          18672.858693477567,
          19195.210595552715,
          17061.95184767044,
          16357.819405514521,
          -59174.00865651334,
          -60891.97963938897,
          -62828.800195287564,
          -63738.896598902254,
          -63476.25515987453,
          -69430.33380954969,
          -75287.75194994139,
          21083.015380180324,
          19549.118051473328,
          17831.188702147345,
          15461.942460038801,
          13142.985898698404,
          27650.46351249789,
          25020.54438462967,
          22649.22338875092,
          54163.30095186779
         ]
        }
       ],
       "layout": {
        "template": {
         "data": {
          "bar": [
           {
            "error_x": {
             "color": "#2a3f5f"
            },
            "error_y": {
             "color": "#2a3f5f"
            },
            "marker": {
             "line": {
              "color": "#E5ECF6",
              "width": 0.5
             },
             "pattern": {
              "fillmode": "overlay",
              "size": 10,
              "solidity": 0.2
             }
            },
            "type": "bar"
           }
          ],
          "barpolar": [
           {
            "marker": {
             "line": {
              "color": "#E5ECF6",
              "width": 0.5
             },
             "pattern": {
              "fillmode": "overlay",
              "size": 10,
              "solidity": 0.2
             }
            },
            "type": "barpolar"
           }
          ],
          "carpet": [
           {
            "aaxis": {
             "endlinecolor": "#2a3f5f",
             "gridcolor": "white",
             "linecolor": "white",
             "minorgridcolor": "white",
             "startlinecolor": "#2a3f5f"
            },
            "baxis": {
             "endlinecolor": "#2a3f5f",
             "gridcolor": "white",
             "linecolor": "white",
             "minorgridcolor": "white",
             "startlinecolor": "#2a3f5f"
            },
            "type": "carpet"
           }
          ],
          "choropleth": [
           {
            "colorbar": {
             "outlinewidth": 0,
             "ticks": ""
            },
            "type": "choropleth"
           }
          ],
          "contour": [
           {
            "colorbar": {
             "outlinewidth": 0,
             "ticks": ""
            },
            "colorscale": [
             [
              0,
              "#0d0887"
             ],
             [
              0.1111111111111111,
              "#46039f"
             ],
             [
              0.2222222222222222,
              "#7201a8"
             ],
             [
              0.3333333333333333,
              "#9c179e"
             ],
             [
              0.4444444444444444,
              "#bd3786"
             ],
             [
              0.5555555555555556,
              "#d8576b"
             ],
             [
              0.6666666666666666,
              "#ed7953"
             ],
             [
              0.7777777777777778,
              "#fb9f3a"
             ],
             [
              0.8888888888888888,
              "#fdca26"
             ],
             [
              1,
              "#f0f921"
             ]
            ],
            "type": "contour"
           }
          ],
          "contourcarpet": [
           {
            "colorbar": {
             "outlinewidth": 0,
             "ticks": ""
            },
            "type": "contourcarpet"
           }
          ],
          "heatmap": [
           {
            "colorbar": {
             "outlinewidth": 0,
             "ticks": ""
            },
            "colorscale": [
             [
              0,
              "#0d0887"
             ],
             [
              0.1111111111111111,
              "#46039f"
             ],
             [
              0.2222222222222222,
              "#7201a8"
             ],
             [
              0.3333333333333333,
              "#9c179e"
             ],
             [
              0.4444444444444444,
              "#bd3786"
             ],
             [
              0.5555555555555556,
              "#d8576b"
             ],
             [
              0.6666666666666666,
              "#ed7953"
             ],
             [
              0.7777777777777778,
              "#fb9f3a"
             ],
             [
              0.8888888888888888,
              "#fdca26"
             ],
             [
              1,
              "#f0f921"
             ]
            ],
            "type": "heatmap"
           }
          ],
          "heatmapgl": [
           {
            "colorbar": {
             "outlinewidth": 0,
             "ticks": ""
            },
            "colorscale": [
             [
              0,
              "#0d0887"
             ],
             [
              0.1111111111111111,
              "#46039f"
             ],
             [
              0.2222222222222222,
              "#7201a8"
             ],
             [
              0.3333333333333333,
              "#9c179e"
             ],
             [
              0.4444444444444444,
              "#bd3786"
             ],
             [
              0.5555555555555556,
              "#d8576b"
             ],
             [
              0.6666666666666666,
              "#ed7953"
             ],
             [
              0.7777777777777778,
              "#fb9f3a"
             ],
             [
              0.8888888888888888,
              "#fdca26"
             ],
             [
              1,
              "#f0f921"
             ]
            ],
            "type": "heatmapgl"
           }
          ],
          "histogram": [
           {
            "marker": {
             "pattern": {
              "fillmode": "overlay",
              "size": 10,
              "solidity": 0.2
             }
            },
            "type": "histogram"
           }
          ],
          "histogram2d": [
           {
            "colorbar": {
             "outlinewidth": 0,
             "ticks": ""
            },
            "colorscale": [
             [
              0,
              "#0d0887"
             ],
             [
              0.1111111111111111,
              "#46039f"
             ],
             [
              0.2222222222222222,
              "#7201a8"
             ],
             [
              0.3333333333333333,
              "#9c179e"
             ],
             [
              0.4444444444444444,
              "#bd3786"
             ],
             [
              0.5555555555555556,
              "#d8576b"
             ],
             [
              0.6666666666666666,
              "#ed7953"
             ],
             [
              0.7777777777777778,
              "#fb9f3a"
             ],
             [
              0.8888888888888888,
              "#fdca26"
             ],
             [
              1,
              "#f0f921"
             ]
            ],
            "type": "histogram2d"
           }
          ],
          "histogram2dcontour": [
           {
            "colorbar": {
             "outlinewidth": 0,
             "ticks": ""
            },
            "colorscale": [
             [
              0,
              "#0d0887"
             ],
             [
              0.1111111111111111,
              "#46039f"
             ],
             [
              0.2222222222222222,
              "#7201a8"
             ],
             [
              0.3333333333333333,
              "#9c179e"
             ],
             [
              0.4444444444444444,
              "#bd3786"
             ],
             [
              0.5555555555555556,
              "#d8576b"
             ],
             [
              0.6666666666666666,
              "#ed7953"
             ],
             [
              0.7777777777777778,
              "#fb9f3a"
             ],
             [
              0.8888888888888888,
              "#fdca26"
             ],
             [
              1,
              "#f0f921"
             ]
            ],
            "type": "histogram2dcontour"
           }
          ],
          "mesh3d": [
           {
            "colorbar": {
             "outlinewidth": 0,
             "ticks": ""
            },
            "type": "mesh3d"
           }
          ],
          "parcoords": [
           {
            "line": {
             "colorbar": {
              "outlinewidth": 0,
              "ticks": ""
             }
            },
            "type": "parcoords"
           }
          ],
          "pie": [
           {
            "automargin": true,
            "type": "pie"
           }
          ],
          "scatter": [
           {
            "marker": {
             "colorbar": {
              "outlinewidth": 0,
              "ticks": ""
             }
            },
            "type": "scatter"
           }
          ],
          "scatter3d": [
           {
            "line": {
             "colorbar": {
              "outlinewidth": 0,
              "ticks": ""
             }
            },
            "marker": {
             "colorbar": {
              "outlinewidth": 0,
              "ticks": ""
             }
            },
            "type": "scatter3d"
           }
          ],
          "scattercarpet": [
           {
            "marker": {
             "colorbar": {
              "outlinewidth": 0,
              "ticks": ""
             }
            },
            "type": "scattercarpet"
           }
          ],
          "scattergeo": [
           {
            "marker": {
             "colorbar": {
              "outlinewidth": 0,
              "ticks": ""
             }
            },
            "type": "scattergeo"
           }
          ],
          "scattergl": [
           {
            "marker": {
             "colorbar": {
              "outlinewidth": 0,
              "ticks": ""
             }
            },
            "type": "scattergl"
           }
          ],
          "scattermapbox": [
           {
            "marker": {
             "colorbar": {
              "outlinewidth": 0,
              "ticks": ""
             }
            },
            "type": "scattermapbox"
           }
          ],
          "scatterpolar": [
           {
            "marker": {
             "colorbar": {
              "outlinewidth": 0,
              "ticks": ""
             }
            },
            "type": "scatterpolar"
           }
          ],
          "scatterpolargl": [
           {
            "marker": {
             "colorbar": {
              "outlinewidth": 0,
              "ticks": ""
             }
            },
            "type": "scatterpolargl"
           }
          ],
          "scatterternary": [
           {
            "marker": {
             "colorbar": {
              "outlinewidth": 0,
              "ticks": ""
             }
            },
            "type": "scatterternary"
           }
          ],
          "surface": [
           {
            "colorbar": {
             "outlinewidth": 0,
             "ticks": ""
            },
            "colorscale": [
             [
              0,
              "#0d0887"
             ],
             [
              0.1111111111111111,
              "#46039f"
             ],
             [
              0.2222222222222222,
              "#7201a8"
             ],
             [
              0.3333333333333333,
              "#9c179e"
             ],
             [
              0.4444444444444444,
              "#bd3786"
             ],
             [
              0.5555555555555556,
              "#d8576b"
             ],
             [
              0.6666666666666666,
              "#ed7953"
             ],
             [
              0.7777777777777778,
              "#fb9f3a"
             ],
             [
              0.8888888888888888,
              "#fdca26"
             ],
             [
              1,
              "#f0f921"
             ]
            ],
            "type": "surface"
           }
          ],
          "table": [
           {
            "cells": {
             "fill": {
              "color": "#EBF0F8"
             },
             "line": {
              "color": "white"
             }
            },
            "header": {
             "fill": {
              "color": "#C8D4E3"
             },
             "line": {
              "color": "white"
             }
            },
            "type": "table"
           }
          ]
         },
         "layout": {
          "annotationdefaults": {
           "arrowcolor": "#2a3f5f",
           "arrowhead": 0,
           "arrowwidth": 1
          },
          "autotypenumbers": "strict",
          "coloraxis": {
           "colorbar": {
            "outlinewidth": 0,
            "ticks": ""
           }
          },
          "colorscale": {
           "diverging": [
            [
             0,
             "#8e0152"
            ],
            [
             0.1,
             "#c51b7d"
            ],
            [
             0.2,
             "#de77ae"
            ],
            [
             0.3,
             "#f1b6da"
            ],
            [
             0.4,
             "#fde0ef"
            ],
            [
             0.5,
             "#f7f7f7"
            ],
            [
             0.6,
             "#e6f5d0"
            ],
            [
             0.7,
             "#b8e186"
            ],
            [
             0.8,
             "#7fbc41"
            ],
            [
             0.9,
             "#4d9221"
            ],
            [
             1,
             "#276419"
            ]
           ],
           "sequential": [
            [
             0,
             "#0d0887"
            ],
            [
             0.1111111111111111,
             "#46039f"
            ],
            [
             0.2222222222222222,
             "#7201a8"
            ],
            [
             0.3333333333333333,
             "#9c179e"
            ],
            [
             0.4444444444444444,
             "#bd3786"
            ],
            [
             0.5555555555555556,
             "#d8576b"
            ],
            [
             0.6666666666666666,
             "#ed7953"
            ],
            [
             0.7777777777777778,
             "#fb9f3a"
            ],
            [
             0.8888888888888888,
             "#fdca26"
            ],
            [
             1,
             "#f0f921"
            ]
           ],
           "sequentialminus": [
            [
             0,
             "#0d0887"
            ],
            [
             0.1111111111111111,
             "#46039f"
            ],
            [
             0.2222222222222222,
             "#7201a8"
            ],
            [
             0.3333333333333333,
             "#9c179e"
            ],
            [
             0.4444444444444444,
             "#bd3786"
            ],
            [
             0.5555555555555556,
             "#d8576b"
            ],
            [
             0.6666666666666666,
             "#ed7953"
            ],
            [
             0.7777777777777778,
             "#fb9f3a"
            ],
            [
             0.8888888888888888,
             "#fdca26"
            ],
            [
             1,
             "#f0f921"
            ]
           ]
          },
          "colorway": [
           "#636efa",
           "#EF553B",
           "#00cc96",
           "#ab63fa",
           "#FFA15A",
           "#19d3f3",
           "#FF6692",
           "#B6E880",
           "#FF97FF",
           "#FECB52"
          ],
          "font": {
           "color": "#2a3f5f"
          },
          "geo": {
           "bgcolor": "white",
           "lakecolor": "white",
           "landcolor": "#E5ECF6",
           "showlakes": true,
           "showland": true,
           "subunitcolor": "white"
          },
          "hoverlabel": {
           "align": "left"
          },
          "hovermode": "closest",
          "mapbox": {
           "style": "light"
          },
          "paper_bgcolor": "white",
          "plot_bgcolor": "#E5ECF6",
          "polar": {
           "angularaxis": {
            "gridcolor": "white",
            "linecolor": "white",
            "ticks": ""
           },
           "bgcolor": "#E5ECF6",
           "radialaxis": {
            "gridcolor": "white",
            "linecolor": "white",
            "ticks": ""
           }
          },
          "scene": {
           "xaxis": {
            "backgroundcolor": "#E5ECF6",
            "gridcolor": "white",
            "gridwidth": 2,
            "linecolor": "white",
            "showbackground": true,
            "ticks": "",
            "zerolinecolor": "white"
           },
           "yaxis": {
            "backgroundcolor": "#E5ECF6",
            "gridcolor": "white",
            "gridwidth": 2,
            "linecolor": "white",
            "showbackground": true,
            "ticks": "",
            "zerolinecolor": "white"
           },
           "zaxis": {
            "backgroundcolor": "#E5ECF6",
            "gridcolor": "white",
            "gridwidth": 2,
            "linecolor": "white",
            "showbackground": true,
            "ticks": "",
            "zerolinecolor": "white"
           }
          },
          "shapedefaults": {
           "line": {
            "color": "#2a3f5f"
           }
          },
          "ternary": {
           "aaxis": {
            "gridcolor": "white",
            "linecolor": "white",
            "ticks": ""
           },
           "baxis": {
            "gridcolor": "white",
            "linecolor": "white",
            "ticks": ""
           },
           "bgcolor": "#E5ECF6",
           "caxis": {
            "gridcolor": "white",
            "linecolor": "white",
            "ticks": ""
           }
          },
          "title": {
           "x": 0.05
          },
          "xaxis": {
           "automargin": true,
           "gridcolor": "white",
           "linecolor": "white",
           "ticks": "",
           "title": {
            "standoff": 15
           },
           "zerolinecolor": "white",
           "zerolinewidth": 2
          },
          "yaxis": {
           "automargin": true,
           "gridcolor": "white",
           "linecolor": "white",
           "ticks": "",
           "title": {
            "standoff": 15
           },
           "zerolinecolor": "white",
           "zerolinewidth": 2
          }
         }
        },
        "title": {
         "font": {
          "size": 20
         },
         "text": "CSW-1001 vs Predicted CSW-1001 with Confidence Interval",
         "x": 0.5
        },
        "xaxis": {
         "title": {
          "font": {
           "size": 15
          },
          "text": "Time"
         }
        },
        "yaxis": {
         "title": {
          "font": {
           "size": 15
          },
          "text": "CSW-1001"
         }
        }
       }
      },
      "text/html": [
       "<div>                            <div id=\"c75192de-8d47-4521-b60d-103fa3428b10\" class=\"plotly-graph-div\" style=\"height:525px; width:100%;\"></div>            <script type=\"text/javascript\">                require([\"plotly\"], function(Plotly) {                    window.PLOTLYENV=window.PLOTLYENV || {};                                    if (document.getElementById(\"c75192de-8d47-4521-b60d-103fa3428b10\")) {                    Plotly.newPlot(                        \"c75192de-8d47-4521-b60d-103fa3428b10\",                        [{\"line\":{\"color\":\"skyblue\",\"width\":2.5},\"mode\":\"lines\",\"name\":\"Test Data\",\"type\":\"scatter\",\"x\":[0,1,2,3,4,5,6,7,8,9,10,11,12,13,14,15,16,17,18,19],\"y\":[89600.0,89600.0,89600.0,75264.0,75264.0,75264.0,75264.0,75264.0,0.0,0.0,0.0,0.0,0.0,0.0,0.0,75264.0,75264.0,75264.0,75264.0,75264.0]},{\"line\":{\"color\":\"red\",\"dash\":\"dash\",\"width\":2.5},\"mode\":\"lines\",\"name\":\"Predicted Data\",\"type\":\"scatter\",\"x\":[0,1,2,3,4,5,6,7,8,9,10,11,12,13,14,15,16,17,18,19],\"y\":[117679.48339258094,91219.60196633669,91162.12883212582,91146.35085913392,74509.41449986711,74815.99886668926,75059.53093872301,75205.20549855907,75311.14122506625,-12603.350625812025,-9257.243164631262,-7227.569441361028,-6166.21171948446,-5305.249803808623,-4579.378868191548,-3999.123474451261,77772.86088190602,77566.03228367389,77365.07253339807,77275.3326137491]},{\"fill\":\"toself\",\"fillcolor\":\"rgba(255, 105, 180, 0.3)\",\"hoverinfo\":\"skip\",\"line\":{\"color\":\"rgba(255,255,255,0)\"},\"name\":\"95% Confidence Interval\",\"showlegend\":false,\"type\":\"scatter\",\"x\":[0,1,2,3,4,5,6,7,8,9,10,11,12,13,14,15,16,17,18,19,19,18,17,16,15,14,13,12,11,10,9,8,7,6,5,4,3,2,1,0],\"y\":[181195.66583329407,159789.98054392246,157303.71327962197,154642.23820576994,135875.8431010358,134170.05527333973,132287.87317529868,130861.2929456448,129539.26706995218,50081.05069831735,50915.84748028717,49021.116277152476,51406.47315993333,52218.30058767031,51733.22190300588,51175.761707610814,139187.90235829752,138070.11271967733,135534.9344712434,135877.80653402064,18672.858693477567,19195.210595552715,17061.95184767044,16357.819405514521,-59174.00865651334,-60891.97963938897,-62828.800195287564,-63738.896598902254,-63476.25515987453,-69430.33380954969,-75287.75194994139,21083.015380180324,19549.118051473328,17831.188702147345,15461.942460038801,13142.985898698404,27650.46351249789,25020.54438462967,22649.22338875092,54163.30095186779]}],                        {\"template\":{\"data\":{\"bar\":[{\"error_x\":{\"color\":\"#2a3f5f\"},\"error_y\":{\"color\":\"#2a3f5f\"},\"marker\":{\"line\":{\"color\":\"#E5ECF6\",\"width\":0.5},\"pattern\":{\"fillmode\":\"overlay\",\"size\":10,\"solidity\":0.2}},\"type\":\"bar\"}],\"barpolar\":[{\"marker\":{\"line\":{\"color\":\"#E5ECF6\",\"width\":0.5},\"pattern\":{\"fillmode\":\"overlay\",\"size\":10,\"solidity\":0.2}},\"type\":\"barpolar\"}],\"carpet\":[{\"aaxis\":{\"endlinecolor\":\"#2a3f5f\",\"gridcolor\":\"white\",\"linecolor\":\"white\",\"minorgridcolor\":\"white\",\"startlinecolor\":\"#2a3f5f\"},\"baxis\":{\"endlinecolor\":\"#2a3f5f\",\"gridcolor\":\"white\",\"linecolor\":\"white\",\"minorgridcolor\":\"white\",\"startlinecolor\":\"#2a3f5f\"},\"type\":\"carpet\"}],\"choropleth\":[{\"colorbar\":{\"outlinewidth\":0,\"ticks\":\"\"},\"type\":\"choropleth\"}],\"contour\":[{\"colorbar\":{\"outlinewidth\":0,\"ticks\":\"\"},\"colorscale\":[[0.0,\"#0d0887\"],[0.1111111111111111,\"#46039f\"],[0.2222222222222222,\"#7201a8\"],[0.3333333333333333,\"#9c179e\"],[0.4444444444444444,\"#bd3786\"],[0.5555555555555556,\"#d8576b\"],[0.6666666666666666,\"#ed7953\"],[0.7777777777777778,\"#fb9f3a\"],[0.8888888888888888,\"#fdca26\"],[1.0,\"#f0f921\"]],\"type\":\"contour\"}],\"contourcarpet\":[{\"colorbar\":{\"outlinewidth\":0,\"ticks\":\"\"},\"type\":\"contourcarpet\"}],\"heatmap\":[{\"colorbar\":{\"outlinewidth\":0,\"ticks\":\"\"},\"colorscale\":[[0.0,\"#0d0887\"],[0.1111111111111111,\"#46039f\"],[0.2222222222222222,\"#7201a8\"],[0.3333333333333333,\"#9c179e\"],[0.4444444444444444,\"#bd3786\"],[0.5555555555555556,\"#d8576b\"],[0.6666666666666666,\"#ed7953\"],[0.7777777777777778,\"#fb9f3a\"],[0.8888888888888888,\"#fdca26\"],[1.0,\"#f0f921\"]],\"type\":\"heatmap\"}],\"heatmapgl\":[{\"colorbar\":{\"outlinewidth\":0,\"ticks\":\"\"},\"colorscale\":[[0.0,\"#0d0887\"],[0.1111111111111111,\"#46039f\"],[0.2222222222222222,\"#7201a8\"],[0.3333333333333333,\"#9c179e\"],[0.4444444444444444,\"#bd3786\"],[0.5555555555555556,\"#d8576b\"],[0.6666666666666666,\"#ed7953\"],[0.7777777777777778,\"#fb9f3a\"],[0.8888888888888888,\"#fdca26\"],[1.0,\"#f0f921\"]],\"type\":\"heatmapgl\"}],\"histogram\":[{\"marker\":{\"pattern\":{\"fillmode\":\"overlay\",\"size\":10,\"solidity\":0.2}},\"type\":\"histogram\"}],\"histogram2d\":[{\"colorbar\":{\"outlinewidth\":0,\"ticks\":\"\"},\"colorscale\":[[0.0,\"#0d0887\"],[0.1111111111111111,\"#46039f\"],[0.2222222222222222,\"#7201a8\"],[0.3333333333333333,\"#9c179e\"],[0.4444444444444444,\"#bd3786\"],[0.5555555555555556,\"#d8576b\"],[0.6666666666666666,\"#ed7953\"],[0.7777777777777778,\"#fb9f3a\"],[0.8888888888888888,\"#fdca26\"],[1.0,\"#f0f921\"]],\"type\":\"histogram2d\"}],\"histogram2dcontour\":[{\"colorbar\":{\"outlinewidth\":0,\"ticks\":\"\"},\"colorscale\":[[0.0,\"#0d0887\"],[0.1111111111111111,\"#46039f\"],[0.2222222222222222,\"#7201a8\"],[0.3333333333333333,\"#9c179e\"],[0.4444444444444444,\"#bd3786\"],[0.5555555555555556,\"#d8576b\"],[0.6666666666666666,\"#ed7953\"],[0.7777777777777778,\"#fb9f3a\"],[0.8888888888888888,\"#fdca26\"],[1.0,\"#f0f921\"]],\"type\":\"histogram2dcontour\"}],\"mesh3d\":[{\"colorbar\":{\"outlinewidth\":0,\"ticks\":\"\"},\"type\":\"mesh3d\"}],\"parcoords\":[{\"line\":{\"colorbar\":{\"outlinewidth\":0,\"ticks\":\"\"}},\"type\":\"parcoords\"}],\"pie\":[{\"automargin\":true,\"type\":\"pie\"}],\"scatter\":[{\"marker\":{\"colorbar\":{\"outlinewidth\":0,\"ticks\":\"\"}},\"type\":\"scatter\"}],\"scatter3d\":[{\"line\":{\"colorbar\":{\"outlinewidth\":0,\"ticks\":\"\"}},\"marker\":{\"colorbar\":{\"outlinewidth\":0,\"ticks\":\"\"}},\"type\":\"scatter3d\"}],\"scattercarpet\":[{\"marker\":{\"colorbar\":{\"outlinewidth\":0,\"ticks\":\"\"}},\"type\":\"scattercarpet\"}],\"scattergeo\":[{\"marker\":{\"colorbar\":{\"outlinewidth\":0,\"ticks\":\"\"}},\"type\":\"scattergeo\"}],\"scattergl\":[{\"marker\":{\"colorbar\":{\"outlinewidth\":0,\"ticks\":\"\"}},\"type\":\"scattergl\"}],\"scattermapbox\":[{\"marker\":{\"colorbar\":{\"outlinewidth\":0,\"ticks\":\"\"}},\"type\":\"scattermapbox\"}],\"scatterpolar\":[{\"marker\":{\"colorbar\":{\"outlinewidth\":0,\"ticks\":\"\"}},\"type\":\"scatterpolar\"}],\"scatterpolargl\":[{\"marker\":{\"colorbar\":{\"outlinewidth\":0,\"ticks\":\"\"}},\"type\":\"scatterpolargl\"}],\"scatterternary\":[{\"marker\":{\"colorbar\":{\"outlinewidth\":0,\"ticks\":\"\"}},\"type\":\"scatterternary\"}],\"surface\":[{\"colorbar\":{\"outlinewidth\":0,\"ticks\":\"\"},\"colorscale\":[[0.0,\"#0d0887\"],[0.1111111111111111,\"#46039f\"],[0.2222222222222222,\"#7201a8\"],[0.3333333333333333,\"#9c179e\"],[0.4444444444444444,\"#bd3786\"],[0.5555555555555556,\"#d8576b\"],[0.6666666666666666,\"#ed7953\"],[0.7777777777777778,\"#fb9f3a\"],[0.8888888888888888,\"#fdca26\"],[1.0,\"#f0f921\"]],\"type\":\"surface\"}],\"table\":[{\"cells\":{\"fill\":{\"color\":\"#EBF0F8\"},\"line\":{\"color\":\"white\"}},\"header\":{\"fill\":{\"color\":\"#C8D4E3\"},\"line\":{\"color\":\"white\"}},\"type\":\"table\"}]},\"layout\":{\"annotationdefaults\":{\"arrowcolor\":\"#2a3f5f\",\"arrowhead\":0,\"arrowwidth\":1},\"autotypenumbers\":\"strict\",\"coloraxis\":{\"colorbar\":{\"outlinewidth\":0,\"ticks\":\"\"}},\"colorscale\":{\"diverging\":[[0,\"#8e0152\"],[0.1,\"#c51b7d\"],[0.2,\"#de77ae\"],[0.3,\"#f1b6da\"],[0.4,\"#fde0ef\"],[0.5,\"#f7f7f7\"],[0.6,\"#e6f5d0\"],[0.7,\"#b8e186\"],[0.8,\"#7fbc41\"],[0.9,\"#4d9221\"],[1,\"#276419\"]],\"sequential\":[[0.0,\"#0d0887\"],[0.1111111111111111,\"#46039f\"],[0.2222222222222222,\"#7201a8\"],[0.3333333333333333,\"#9c179e\"],[0.4444444444444444,\"#bd3786\"],[0.5555555555555556,\"#d8576b\"],[0.6666666666666666,\"#ed7953\"],[0.7777777777777778,\"#fb9f3a\"],[0.8888888888888888,\"#fdca26\"],[1.0,\"#f0f921\"]],\"sequentialminus\":[[0.0,\"#0d0887\"],[0.1111111111111111,\"#46039f\"],[0.2222222222222222,\"#7201a8\"],[0.3333333333333333,\"#9c179e\"],[0.4444444444444444,\"#bd3786\"],[0.5555555555555556,\"#d8576b\"],[0.6666666666666666,\"#ed7953\"],[0.7777777777777778,\"#fb9f3a\"],[0.8888888888888888,\"#fdca26\"],[1.0,\"#f0f921\"]]},\"colorway\":[\"#636efa\",\"#EF553B\",\"#00cc96\",\"#ab63fa\",\"#FFA15A\",\"#19d3f3\",\"#FF6692\",\"#B6E880\",\"#FF97FF\",\"#FECB52\"],\"font\":{\"color\":\"#2a3f5f\"},\"geo\":{\"bgcolor\":\"white\",\"lakecolor\":\"white\",\"landcolor\":\"#E5ECF6\",\"showlakes\":true,\"showland\":true,\"subunitcolor\":\"white\"},\"hoverlabel\":{\"align\":\"left\"},\"hovermode\":\"closest\",\"mapbox\":{\"style\":\"light\"},\"paper_bgcolor\":\"white\",\"plot_bgcolor\":\"#E5ECF6\",\"polar\":{\"angularaxis\":{\"gridcolor\":\"white\",\"linecolor\":\"white\",\"ticks\":\"\"},\"bgcolor\":\"#E5ECF6\",\"radialaxis\":{\"gridcolor\":\"white\",\"linecolor\":\"white\",\"ticks\":\"\"}},\"scene\":{\"xaxis\":{\"backgroundcolor\":\"#E5ECF6\",\"gridcolor\":\"white\",\"gridwidth\":2,\"linecolor\":\"white\",\"showbackground\":true,\"ticks\":\"\",\"zerolinecolor\":\"white\"},\"yaxis\":{\"backgroundcolor\":\"#E5ECF6\",\"gridcolor\":\"white\",\"gridwidth\":2,\"linecolor\":\"white\",\"showbackground\":true,\"ticks\":\"\",\"zerolinecolor\":\"white\"},\"zaxis\":{\"backgroundcolor\":\"#E5ECF6\",\"gridcolor\":\"white\",\"gridwidth\":2,\"linecolor\":\"white\",\"showbackground\":true,\"ticks\":\"\",\"zerolinecolor\":\"white\"}},\"shapedefaults\":{\"line\":{\"color\":\"#2a3f5f\"}},\"ternary\":{\"aaxis\":{\"gridcolor\":\"white\",\"linecolor\":\"white\",\"ticks\":\"\"},\"baxis\":{\"gridcolor\":\"white\",\"linecolor\":\"white\",\"ticks\":\"\"},\"bgcolor\":\"#E5ECF6\",\"caxis\":{\"gridcolor\":\"white\",\"linecolor\":\"white\",\"ticks\":\"\"}},\"title\":{\"x\":0.05},\"xaxis\":{\"automargin\":true,\"gridcolor\":\"white\",\"linecolor\":\"white\",\"ticks\":\"\",\"title\":{\"standoff\":15},\"zerolinecolor\":\"white\",\"zerolinewidth\":2},\"yaxis\":{\"automargin\":true,\"gridcolor\":\"white\",\"linecolor\":\"white\",\"ticks\":\"\",\"title\":{\"standoff\":15},\"zerolinecolor\":\"white\",\"zerolinewidth\":2}}},\"title\":{\"font\":{\"size\":20},\"text\":\"CSW-1001 vs Predicted CSW-1001 with Confidence Interval\",\"x\":0.5},\"xaxis\":{\"title\":{\"font\":{\"size\":15},\"text\":\"Time\"}},\"yaxis\":{\"title\":{\"font\":{\"size\":15},\"text\":\"CSW-1001\"}}},                        {\"responsive\": true}                    ).then(function(){\n",
       "                            \n",
       "var gd = document.getElementById('c75192de-8d47-4521-b60d-103fa3428b10');\n",
       "var x = new MutationObserver(function (mutations, observer) {{\n",
       "        var display = window.getComputedStyle(gd).display;\n",
       "        if (!display || display === 'none') {{\n",
       "            console.log([gd, 'removed!']);\n",
       "            Plotly.purge(gd);\n",
       "            observer.disconnect();\n",
       "        }}\n",
       "}});\n",
       "\n",
       "// Listen for the removal of the full notebook cells\n",
       "var notebookContainer = gd.closest('#notebook-container');\n",
       "if (notebookContainer) {{\n",
       "    x.observe(notebookContainer, {childList: true});\n",
       "}}\n",
       "\n",
       "// Listen for the clearing of the current output cell\n",
       "var outputEl = gd.closest('.output');\n",
       "if (outputEl) {{\n",
       "    x.observe(outputEl, {childList: true});\n",
       "}}\n",
       "\n",
       "                        })                };                });            </script>        </div>"
      ]
     },
     "metadata": {},
     "output_type": "display_data"
    },
    {
     "data": {
      "image/png": "[encoded data removed]",
      "text/plain": [
       "<Figure size 1200x600 with 1 Axes>"
      ]
     },
     "metadata": {},
     "output_type": "display_data"
    }
   ],
   "source": [
    "# Iterating through all variables to fit an ARIMA model for each\n",
    "for var in variables:\n",
    "    best_aic = np.inf  # Variable to store the best AIC value\n",
    "    best_order = None  # Variable to store the best (p, d, q) order\n",
    "    best_model = None  # Variable to store the best ARIMA model\n",
    "    best_model_fit = None  # Variable to store the fit of the best model\n",
    "\n",
    "    # Grid search for p, d, q values\n",
    "    for p in range(3):\n",
    "        for d in range(3):\n",
    "            for q in range(3):\n",
    "                try:\n",
    "                    # Fit an ARIMA model with the current (p, d, q) order\n",
    "                    temp_model = ARIMA(transposed_df[var].dropna(), order=(p, d, q))\n",
    "                    temp_model_fit = temp_model.fit()\n",
    "                    temp_aic = temp_model_fit.aic\n",
    "\n",
    "                    # Update the best model if the current AIC is better\n",
    "                    if temp_aic < best_aic:\n",
    "                        best_aic = temp_aic\n",
    "                        best_order = (p, d, q)\n",
    "                        best_model = temp_model\n",
    "                        best_model_fit = temp_model_fit  # Save the fit model\n",
    "                except:\n",
    "                    continue\n",
    "\n",
    "    models.append(best_model)\n",
    "\n",
    "    # Print the structure of the best ARIMA model for the current variable\n",
    "    print(f\"\\033[1mStructure of The ARIMA Model For {var}: {best_order}\\033[0m\")\n",
    "    print(\"\\n\")\n",
    "\n",
    "    # Print the summary of the best ARIMA model\n",
    "    print(f\"\\033[1mModel Summary:\\033[0m\")\n",
    "    print(best_model_fit.summary())\n",
    "    print(\"\\n\")\n",
    "\n",
    "    # Plotting the ACF and PACF for the best model\n",
    "    print(\"\\033[1mPlotting the ACF and PACF:\\033[0m\")\n",
    "    plt.figure(figsize=(12, 6))\n",
    "    plt.suptitle('Autocorrelation & Partial Autocorrelation Plot for The Variable: ' + var)\n",
    "\n",
    "    plt.subplot(211)\n",
    "    plot_acf(transposed_df[var].dropna(), lags=10, ax=plt.gca())\n",
    "\n",
    "    plt.subplot(212)\n",
    "    plot_pacf(transposed_df[var].dropna(), lags=10, ax=plt.gca())\n",
    "\n",
    "    plt.show()\n",
    "    print(\"\\n\")\n",
    "\n",
    "    # Test for stationarity of residuals using ADF test\n",
    "    print(\"\\033[1mTest of if the Residuals Are Stationary Using the ADF Test:\\033[0m\")\n",
    "    adf_result = adfuller(best_model_fit.resid)\n",
    "    print(f\"ADF Statistic: {adf_result[0]}\")\n",
    "    print(f\"p-value: {adf_result[1]}\")\n",
    "    if adf_result[1] < 0.05:\n",
    "        print(\"The residuals are stationary.\")\n",
    "    else:\n",
    "        print(\"The residuals are not stationary.\")\n",
    "    print(\"\\n\")\n",
    "\n",
    "    # Test for autocorrelation in residuals using Ljung-Box test\n",
    "    print(\"\\033[1mTest of if No Autocorrelation Using the Ljung-Box Test:\\033[0m\")\n",
    "    lb_test = acorr_ljungbox(best_model_fit.resid, lags=[10], return_df=True)\n",
    "    print(f\"Ljung-Box Statistic: {lb_test['lb_stat'].values[0]}\")\n",
    "    print(f\"p-value: {lb_test['lb_pvalue'].values[0]}\")\n",
    "    if lb_test['lb_pvalue'].values[0] > 0.05:\n",
    "        print(\"There is no significant autocorrelation in the residuals.\")\n",
    "    else:\n",
    "        print(\"There is significant autocorrelation in the residuals.\")\n",
    "    print(\"\\n\")\n",
    "\n",
    "    # Predictions\n",
    "    print(\"\\033[1mPrediction vs Observed Values:\\033[0m\")\n",
    "    history = [x for x in transposed_df[var].dropna()[:-20]]  # Training data points\n",
    "    test = [x for x in transposed_df[var].dropna()[-20:]]  # Test data points\n",
    "    predictions = []\n",
    "    ape = []  # List to store the absolute percentage errors for the current variable\n",
    "    lower_ci, upper_ci = [], []  # lists to store lower and upper confidence intervals\n",
    "\n",
    "    for t in range(len(test)):\n",
    "        model = ARIMA(history, order=best_order)\n",
    "        model_fit = model.fit()\n",
    "        output = model_fit.get_prediction(start=len(history), dynamic=False)  # perform forecast\n",
    "        pred_df = output.summary_frame(alpha=0.05)  # Summary dataframe\n",
    "        yhat = pred_df['mean'].values[0]  # Predicted value\n",
    "        lower = pred_df['mean_ci_lower'].values[0]  # lower bound of confidence interval\n",
    "        upper = pred_df['mean_ci_upper'].values[0]  # upper bound of confidence interval\n",
    "        predictions.append(yhat)\n",
    "        lower_ci.append(lower)\n",
    "        upper_ci.append(upper)\n",
    "        obs = test[t]\n",
    "        history.append(obs)\n",
    "        print('predicted=%f, expected=%f' % (yhat, obs))\n",
    "        ape.append(abs((obs - yhat) / obs) * 100)  # Calculate the APE and add it to the list\n",
    "\n",
    "    ape_multi.append(ape)  # Store the list of APEs for the current variable\n",
    "\n",
    "    # Calculate the RMSE, MAE, and APE\n",
    "    rmse = sqrt(mean_squared_error(test, predictions))\n",
    "    mae = mean_absolute_error(test, predictions)\n",
    "    rmse_multi.append(rmse)\n",
    "    mae_multi.append(mae)\n",
    "\n",
    "    # Print prediction performance and results for the current variable\n",
    "    print(\"\\n\")\n",
    "    print(\"\\033[1mPrediction Performance & Results:\\033[0m\")\n",
    "    print(f\"Item: {var}\")\n",
    "    print(f\"Best ARIMA Structure is: {best_order}\")\n",
    "    print(f\"Best AIC found is: {best_aic}\")\n",
    "    print(f\"The RMSE of the predictions is: {rmse}\")\n",
    "    print(f\"Mean Absolute Percentage Error of the prediction is: {np.mean([value for value in ape if not np.isinf(value)])}%\")\n",
    "    #print(f\"Mean Absolute Percentage Error of the prediction is: {np.mean(ape)}%\")\n",
    "\n",
    "    # Plotting the predictions\n",
    "    trace1 = go.Scatter(\n",
    "        x=list(range(len(test))),\n",
    "        y=test,\n",
    "        mode='lines',\n",
    "        name='Test Data',\n",
    "        line=dict(color='skyblue', width=2.5)\n",
    "    )\n",
    "\n",
    "    # Create a trace for predicted data\n",
    "    trace2 = go.Scatter(\n",
    "        x=list(range(len(predictions))),\n",
    "        y=predictions,\n",
    "        mode='lines',\n",
    "        name='Predicted Data',\n",
    "        line=dict(color='red', width=2.5, dash='dash')\n",
    "    )\n",
    "\n",
    "    # Create a trace for the confidence interval\n",
    "    trace3 = go.Scatter(\n",
    "        x=list(range(len(predictions))) + list(range(len(predictions)))[::-1],  # x, then x reversed\n",
    "        y=upper_ci + lower_ci[::-1],  # upper, then lower reversed\n",
    "        fill='toself',\n",
    "        fillcolor='rgba(255, 105, 180, 0.3)',  # lightpink with alpha 0.3\n",
    "        line=dict(color='rgba(255,255,255,0)'),\n",
    "        hoverinfo=\"skip\",\n",
    "        name='95% Confidence Interval',\n",
    "        showlegend=False\n",
    "    )\n",
    "\n",
    "    data = [trace1, trace2, trace3]\n",
    "\n",
    "    layout = go.Layout(\n",
    "        title=dict(\n",
    "            text=f'{var} vs Predicted {var} with Confidence Interval',\n",
    "            x=0.5,\n",
    "            font=dict(\n",
    "                size=20\n",
    "            )\n",
    "        ),\n",
    "        xaxis=dict(\n",
    "            title='Time',\n",
    "            titlefont=dict(\n",
    "                size=15\n",
    "            )\n",
    "        ),\n",
    "        yaxis=dict(\n",
    "            title=var,\n",
    "            titlefont=dict(\n",
    "                size=15\n",
    "            )\n",
    "        ),\n",
    "    )\n",
    "\n",
    "    fig = go.Figure(data=data, layout=layout)\n",
    "    fig.show()\n",
    "\n",
    "    # Plotting absolute percentage errors for the current variable over the test period\n",
    "    plt.figure(figsize=(12, 6))\n",
    "\n",
    "    # Generate a colormap for the errors\n",
    "    colors = cm.rainbow(np.linspace(0, 1, len(ape)))\n",
    "\n",
    "    # Create the bar plot\n",
    "    plt.bar(range(len(ape)), ape, color=colors)\n",
    "\n",
    "    plt.title(f'Percentage Error for {var} Over The Test Period')\n",
    "    plt.xlabel('Observations')\n",
    "    plt.ylabel('Absolute Percentage Error')\n",
    "\n",
    "    # Formatting the y-axis to display as percentages\n",
    "    fmt = '{x:,.1f}%'\n",
    "    tick = mtick.StrMethodFormatter(fmt)\n",
    "    plt.gca().yaxis.set_major_formatter(tick)\n",
    "\n",
    "    # Ensuring that x-axis labels are integers\n",
    "    xticks = np.arange(len(ape))\n",
    "    plt.xticks(xticks, xticks.astype(int))\n",
    "\n",
    "    plt.show()\n"
   ]
  },
  {
   "cell_type": "markdown",
   "id": "dfdcf059",
   "metadata": {},
   "source": [
    "# Explanation of the script below:\n",
    "\n",
    "#### This script performs the forecasting of variables using ARIMA models for the next 24 months, visualizes the forecasts with confidence intervals, and saves the results in an Excel file.\n",
    "\n",
    "##### 1 -  Empty dictionaries (forecasted_data, lower_bounds, upper_bounds) are created to store the forecasted values, lower bounds, and upper bounds for each variable.\n",
    "##### 2 - The script iterates over each variable and its corresponding model using the zip() function.\n",
    "##### 3 - For each variable, the ARIMA model is fitted (model_fit) and the forecast for 24 months ahead is obtained (forecasted_values).\n",
    "##### 4 - The point forecasts are saved in the forecasted_data dictionary, and the confidence intervals are saved in the lower_bounds and upper_bounds dictionaries.\n",
    "##### 5 - The dictionaries are converted to DataFrames (forecasted_df, lower_bounds_df, upper_bounds_df) for easier manipulation and visualization.\n",
    "##### 6 - The forecasted values and confidence intervals are plotted for each variable, with the forecasted values shown as a line plot and the confidence intervals filled between the lower and upper bounds.\n",
    "##### 7 - A Pandas Excel writer is created using XlsxWriter as the engine, and the output file is named \"forecasted_data.xlsx\".\n",
    "##### 8 - The forecasted values, lower bounds, and upper bounds for each variable are concatenated into a single DataFrame (var_df).\n",
    "##### 9 - Each DataFrame is written to a different worksheet in the Excel file, with the worksheet name based on the variable's name. If the variable name is too long, it is truncated.\n",
    "##### 10 - The Pandas Excel writer is closed, and the Excel file is saved."
   ]
  },
  {
   "cell_type": "code",
   "execution_count": 22,
   "id": "de12eadb",
   "metadata": {},
   "outputs": [
    {
     "data": {
      "image/png": "[encoded data removed]",
      "text/plain": [
       "<Figure size 1000x500 with 1 Axes>"
      ]
     },
     "metadata": {},
     "output_type": "display_data"
    },
    {
     "data": {
      "image/png": "[encoded data removed]",
      "text/plain": [
       "<Figure size 1000x500 with 1 Axes>"
      ]
     },
     "metadata": {},
     "output_type": "display_data"
    },
    {
     "data": {
      "image/png": "[encoded data removed]",
      "text/plain": [
       "<Figure size 1000x500 with 1 Axes>"
      ]
     },
     "metadata": {},
     "output_type": "display_data"
    }
   ],
   "source": [
    "# Create empty dictionaries to store forecasted values, lower bounds, and upper bounds\n",
    "forecasted_data = {}\n",
    "lower_bounds = {}\n",
    "upper_bounds = {}\n",
    "\n",
    "# Forecasting 24 months ahead for each variable\n",
    "for var, model in zip(variables, models):\n",
    "    model_fit = model.fit()  # Fit the ARIMA model\n",
    "    forecasted_values = model_fit.get_forecast(steps=24)  # Get the forecast for 24 months ahead\n",
    "\n",
    "    # Save point forecasts\n",
    "    forecasted_data[var] = forecasted_values.predicted_mean\n",
    "\n",
    "    # Save confidence intervals\n",
    "    ci = forecasted_values.conf_int(alpha=0.05)\n",
    "    lower_bounds[var] = ci.iloc[:, 0]\n",
    "    upper_bounds[var] = ci.iloc[:, 1]\n",
    "\n",
    "# Convert the dictionaries to DataFrames\n",
    "forecasted_df = pd.DataFrame(forecasted_data)\n",
    "lower_bounds_df = pd.DataFrame(lower_bounds)\n",
    "upper_bounds_df = pd.DataFrame(upper_bounds)\n",
    "\n",
    "# Plotting the forecasts with confidence intervals\n",
    "for var in variables:\n",
    "    plt.figure(figsize=(10, 5))\n",
    "    plt.plot(forecasted_df[var], label='Forecast')  # Plot the forecasted values\n",
    "    plt.fill_between(lower_bounds_df.index, lower_bounds_df[var], upper_bounds_df[var], color='k', alpha=.2)  # Fill the area between lower and upper bounds\n",
    "    plt.title(f'Forecast for {var} with 95% confidence interval')\n",
    "    plt.legend()\n",
    "    plt.show()\n"
   ]
  },
  {
   "cell_type": "code",
   "execution_count": 23,
   "id": "6449bb1a",
   "metadata": {},
   "outputs": [],
   "source": [
    "# Create a Pandas Excel writer using XlsxWriter as the engine.\n",
    "writer = pd.ExcelWriter('forecasted_data.xlsx', engine='xlsxwriter')\n",
    "\n",
    "# Write each DataFrame to a different worksheet.\n",
    "for var in variables:\n",
    "    # Truncate variable name if it's too long\n",
    "    sheet_name = (var[:28] + '..') if len(var) > 31 else var\n",
    "\n",
    "    # Concatenate the forecasted values, lower bounds, and upper bounds into a single DataFrame\n",
    "    var_df = pd.concat([forecasted_df[var], lower_bounds_df[var], upper_bounds_df[var]], axis=1)\n",
    "    var_df.columns = ['Forecasted Value', 'Lower Bound', 'Upper Bound']\n",
    "\n",
    "    # Write the DataFrame to a worksheet in the Excel file\n",
    "    var_df.to_excel(writer, sheet_name=sheet_name)\n",
    "\n",
    "# Close the Pandas Excel writer and output the Excel file.\n",
    "writer.save()"
   ]
  },
  {
   "cell_type": "code",
   "execution_count": null,
   "id": "5f3608f8",
   "metadata": {},
   "outputs": [],
   "source": []
  }
 ],
 "metadata": {
  "kernelspec": {
   "display_name": "Python 3 (ipykernel)",
   "language": "python",
   "name": "python3"
  },
  "language_info": {
   "codemirror_mode": {
    "name": "ipython",
    "version": 3
   },
   "file_extension": ".py",
   "mimetype": "text/x-python",
   "name": "python",
   "nbconvert_exporter": "python",
   "pygments_lexer": "ipython3",
   "version": "3.9.12"
  }
 },
 "nbformat": 4,
 "nbformat_minor": 5
}
